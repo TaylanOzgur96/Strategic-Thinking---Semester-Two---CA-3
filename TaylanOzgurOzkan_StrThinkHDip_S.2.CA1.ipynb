{
 "cells": [
  {
   "cell_type": "markdown",
   "id": "e84b0e8d-7a62-4f9d-86b5-b9c129ca73a4",
   "metadata": {},
   "source": [
    "# Using Machine Learning Techniques to Predict Customer Churn Rates"
   ]
  },
  {
   "cell_type": "markdown",
   "id": "960a8f85-9ff4-4b0f-9e84-21bcfc1b16fb",
   "metadata": {},
   "source": [
    "## 1. Data Preprocessing and Cleaning"
   ]
  },
  {
   "cell_type": "markdown",
   "id": "1744c526-648f-41d3-a940-f7a8648f063d",
   "metadata": {},
   "source": [
    "### Data Review and Configuration"
   ]
  },
  {
   "cell_type": "code",
   "execution_count": 1,
   "id": "b68ea8af-109b-4ac5-a9fb-9acd8bc9317d",
   "metadata": {},
   "outputs": [],
   "source": [
    "# Importing necessary libraries for data analysis and inspection\n",
    "import pandas as pd\n",
    "import numpy as np"
   ]
  },
  {
   "cell_type": "code",
   "execution_count": 2,
   "id": "ae306532-7b53-41c8-9c91-f73235c414c6",
   "metadata": {},
   "outputs": [],
   "source": [
    "# Loading the dataset\n",
    "df = pd.read_csv(\"Churn_Modelling.csv\")"
   ]
  },
  {
   "cell_type": "code",
   "execution_count": 3,
   "id": "22f73c44-d64a-4d61-a997-7ead7e1a8c1e",
   "metadata": {},
   "outputs": [
    {
     "name": "stdout",
     "output_type": "stream",
     "text": [
      "<class 'pandas.core.frame.DataFrame'>\n",
      "RangeIndex: 10002 entries, 0 to 10001\n",
      "Data columns (total 14 columns):\n",
      " #   Column           Non-Null Count  Dtype  \n",
      "---  ------           --------------  -----  \n",
      " 0   RowNumber        10002 non-null  int64  \n",
      " 1   CustomerId       10002 non-null  int64  \n",
      " 2   Surname          10002 non-null  object \n",
      " 3   CreditScore      10002 non-null  int64  \n",
      " 4   Geography        10001 non-null  object \n",
      " 5   Gender           10002 non-null  object \n",
      " 6   Age              10001 non-null  float64\n",
      " 7   Tenure           10002 non-null  int64  \n",
      " 8   Balance          10002 non-null  float64\n",
      " 9   NumOfProducts    10002 non-null  int64  \n",
      " 10  HasCrCard        10001 non-null  float64\n",
      " 11  IsActiveMember   10001 non-null  float64\n",
      " 12  EstimatedSalary  10002 non-null  float64\n",
      " 13  Exited           10002 non-null  int64  \n",
      "dtypes: float64(5), int64(6), object(3)\n",
      "memory usage: 1.1+ MB\n"
     ]
    }
   ],
   "source": [
    "# Displaying basic information about the dataset to understand its structure\n",
    "df.info()"
   ]
  },
  {
   "cell_type": "code",
   "execution_count": 4,
   "id": "91fa3369-310a-4e96-9e95-4cddf25a5243",
   "metadata": {},
   "outputs": [
    {
     "data": {
      "text/html": [
       "<div>\n",
       "<style scoped>\n",
       "    .dataframe tbody tr th:only-of-type {\n",
       "        vertical-align: middle;\n",
       "    }\n",
       "\n",
       "    .dataframe tbody tr th {\n",
       "        vertical-align: top;\n",
       "    }\n",
       "\n",
       "    .dataframe thead th {\n",
       "        text-align: right;\n",
       "    }\n",
       "</style>\n",
       "<table border=\"1\" class=\"dataframe\">\n",
       "  <thead>\n",
       "    <tr style=\"text-align: right;\">\n",
       "      <th></th>\n",
       "      <th>RowNumber</th>\n",
       "      <th>CustomerId</th>\n",
       "      <th>Surname</th>\n",
       "      <th>CreditScore</th>\n",
       "      <th>Geography</th>\n",
       "      <th>Gender</th>\n",
       "      <th>Age</th>\n",
       "      <th>Tenure</th>\n",
       "      <th>Balance</th>\n",
       "      <th>NumOfProducts</th>\n",
       "      <th>HasCrCard</th>\n",
       "      <th>IsActiveMember</th>\n",
       "      <th>EstimatedSalary</th>\n",
       "      <th>Exited</th>\n",
       "    </tr>\n",
       "  </thead>\n",
       "  <tbody>\n",
       "    <tr>\n",
       "      <th>0</th>\n",
       "      <td>1</td>\n",
       "      <td>15634602</td>\n",
       "      <td>Hargrave</td>\n",
       "      <td>619</td>\n",
       "      <td>France</td>\n",
       "      <td>Female</td>\n",
       "      <td>42.0</td>\n",
       "      <td>2</td>\n",
       "      <td>0.00</td>\n",
       "      <td>1</td>\n",
       "      <td>1.0</td>\n",
       "      <td>1.0</td>\n",
       "      <td>101348.88</td>\n",
       "      <td>1</td>\n",
       "    </tr>\n",
       "    <tr>\n",
       "      <th>1</th>\n",
       "      <td>2</td>\n",
       "      <td>15647311</td>\n",
       "      <td>Hill</td>\n",
       "      <td>608</td>\n",
       "      <td>Spain</td>\n",
       "      <td>Female</td>\n",
       "      <td>41.0</td>\n",
       "      <td>1</td>\n",
       "      <td>83807.86</td>\n",
       "      <td>1</td>\n",
       "      <td>0.0</td>\n",
       "      <td>1.0</td>\n",
       "      <td>112542.58</td>\n",
       "      <td>0</td>\n",
       "    </tr>\n",
       "    <tr>\n",
       "      <th>2</th>\n",
       "      <td>3</td>\n",
       "      <td>15619304</td>\n",
       "      <td>Onio</td>\n",
       "      <td>502</td>\n",
       "      <td>France</td>\n",
       "      <td>Female</td>\n",
       "      <td>42.0</td>\n",
       "      <td>8</td>\n",
       "      <td>159660.80</td>\n",
       "      <td>3</td>\n",
       "      <td>1.0</td>\n",
       "      <td>0.0</td>\n",
       "      <td>113931.57</td>\n",
       "      <td>1</td>\n",
       "    </tr>\n",
       "    <tr>\n",
       "      <th>3</th>\n",
       "      <td>4</td>\n",
       "      <td>15701354</td>\n",
       "      <td>Boni</td>\n",
       "      <td>699</td>\n",
       "      <td>France</td>\n",
       "      <td>Female</td>\n",
       "      <td>39.0</td>\n",
       "      <td>1</td>\n",
       "      <td>0.00</td>\n",
       "      <td>2</td>\n",
       "      <td>0.0</td>\n",
       "      <td>0.0</td>\n",
       "      <td>93826.63</td>\n",
       "      <td>0</td>\n",
       "    </tr>\n",
       "    <tr>\n",
       "      <th>4</th>\n",
       "      <td>5</td>\n",
       "      <td>15737888</td>\n",
       "      <td>Mitchell</td>\n",
       "      <td>850</td>\n",
       "      <td>Spain</td>\n",
       "      <td>Female</td>\n",
       "      <td>43.0</td>\n",
       "      <td>2</td>\n",
       "      <td>125510.82</td>\n",
       "      <td>1</td>\n",
       "      <td>NaN</td>\n",
       "      <td>1.0</td>\n",
       "      <td>79084.10</td>\n",
       "      <td>0</td>\n",
       "    </tr>\n",
       "  </tbody>\n",
       "</table>\n",
       "</div>"
      ],
      "text/plain": [
       "   RowNumber  CustomerId   Surname  CreditScore Geography  Gender   Age  \\\n",
       "0          1    15634602  Hargrave          619    France  Female  42.0   \n",
       "1          2    15647311      Hill          608     Spain  Female  41.0   \n",
       "2          3    15619304      Onio          502    France  Female  42.0   \n",
       "3          4    15701354      Boni          699    France  Female  39.0   \n",
       "4          5    15737888  Mitchell          850     Spain  Female  43.0   \n",
       "\n",
       "   Tenure    Balance  NumOfProducts  HasCrCard  IsActiveMember  \\\n",
       "0       2       0.00              1        1.0             1.0   \n",
       "1       1   83807.86              1        0.0             1.0   \n",
       "2       8  159660.80              3        1.0             0.0   \n",
       "3       1       0.00              2        0.0             0.0   \n",
       "4       2  125510.82              1        NaN             1.0   \n",
       "\n",
       "   EstimatedSalary  Exited  \n",
       "0        101348.88       1  \n",
       "1        112542.58       0  \n",
       "2        113931.57       1  \n",
       "3         93826.63       0  \n",
       "4         79084.10       0  "
      ]
     },
     "execution_count": 4,
     "metadata": {},
     "output_type": "execute_result"
    }
   ],
   "source": [
    "# Displaying the first few rows to inspect initial values and data format\n",
    "df.head()"
   ]
  },
  {
   "cell_type": "markdown",
   "id": "163fdfa5-4cc0-4def-8273-225924fe5213",
   "metadata": {},
   "source": [
    "### Handling Missing and Outlier Values"
   ]
  },
  {
   "cell_type": "code",
   "execution_count": 5,
   "id": "f35d054c-5c66-4eb2-98ea-63cc2a769247",
   "metadata": {},
   "outputs": [
    {
     "data": {
      "text/plain": [
       "RowNumber          0\n",
       "CustomerId         0\n",
       "Surname            0\n",
       "CreditScore        0\n",
       "Geography          1\n",
       "Gender             0\n",
       "Age                1\n",
       "Tenure             0\n",
       "Balance            0\n",
       "NumOfProducts      0\n",
       "HasCrCard          1\n",
       "IsActiveMember     1\n",
       "EstimatedSalary    0\n",
       "Exited             0\n",
       "dtype: int64"
      ]
     },
     "execution_count": 5,
     "metadata": {},
     "output_type": "execute_result"
    }
   ],
   "source": [
    "# To detect missing values, we display the number of missing data in each column.\n",
    "df.isnull().sum()"
   ]
  },
  {
   "cell_type": "code",
   "execution_count": 6,
   "id": "ad072cb7-30ec-4e1c-80aa-f2dc39b0a450",
   "metadata": {},
   "outputs": [
    {
     "data": {
      "text/plain": [
       "RowNumber          0.000000\n",
       "CustomerId         0.000000\n",
       "Surname            0.000000\n",
       "CreditScore        0.000000\n",
       "Geography          0.009998\n",
       "Gender             0.000000\n",
       "Age                0.009998\n",
       "Tenure             0.000000\n",
       "Balance            0.000000\n",
       "NumOfProducts      0.000000\n",
       "HasCrCard          0.009998\n",
       "IsActiveMember     0.009998\n",
       "EstimatedSalary    0.000000\n",
       "Exited             0.000000\n",
       "dtype: float64"
      ]
     },
     "execution_count": 6,
     "metadata": {},
     "output_type": "execute_result"
    }
   ],
   "source": [
    "# We examine the distribution of missing data by calculating the percentage of missing values.\n",
    "(df.isnull().sum() / len(df)) * 100"
   ]
  },
  {
   "cell_type": "code",
   "execution_count": 7,
   "id": "31b38e23-8973-4d4a-adc2-ce49fb388520",
   "metadata": {},
   "outputs": [
    {
     "data": {
      "text/html": [
       "<div>\n",
       "<style scoped>\n",
       "    .dataframe tbody tr th:only-of-type {\n",
       "        vertical-align: middle;\n",
       "    }\n",
       "\n",
       "    .dataframe tbody tr th {\n",
       "        vertical-align: top;\n",
       "    }\n",
       "\n",
       "    .dataframe thead th {\n",
       "        text-align: right;\n",
       "    }\n",
       "</style>\n",
       "<table border=\"1\" class=\"dataframe\">\n",
       "  <thead>\n",
       "    <tr style=\"text-align: right;\">\n",
       "      <th></th>\n",
       "      <th>CreditScore</th>\n",
       "      <th>Age</th>\n",
       "      <th>Balance</th>\n",
       "      <th>EstimatedSalary</th>\n",
       "    </tr>\n",
       "  </thead>\n",
       "  <tbody>\n",
       "    <tr>\n",
       "      <th>count</th>\n",
       "      <td>10002.000000</td>\n",
       "      <td>10001.000000</td>\n",
       "      <td>10002.000000</td>\n",
       "      <td>10002.000000</td>\n",
       "    </tr>\n",
       "    <tr>\n",
       "      <th>mean</th>\n",
       "      <td>650.555089</td>\n",
       "      <td>38.922311</td>\n",
       "      <td>76491.112875</td>\n",
       "      <td>100083.331145</td>\n",
       "    </tr>\n",
       "    <tr>\n",
       "      <th>std</th>\n",
       "      <td>96.661615</td>\n",
       "      <td>10.487200</td>\n",
       "      <td>62393.474144</td>\n",
       "      <td>57508.117802</td>\n",
       "    </tr>\n",
       "    <tr>\n",
       "      <th>min</th>\n",
       "      <td>350.000000</td>\n",
       "      <td>18.000000</td>\n",
       "      <td>0.000000</td>\n",
       "      <td>11.580000</td>\n",
       "    </tr>\n",
       "    <tr>\n",
       "      <th>25%</th>\n",
       "      <td>584.000000</td>\n",
       "      <td>32.000000</td>\n",
       "      <td>0.000000</td>\n",
       "      <td>50983.750000</td>\n",
       "    </tr>\n",
       "    <tr>\n",
       "      <th>50%</th>\n",
       "      <td>652.000000</td>\n",
       "      <td>37.000000</td>\n",
       "      <td>97198.540000</td>\n",
       "      <td>100185.240000</td>\n",
       "    </tr>\n",
       "    <tr>\n",
       "      <th>75%</th>\n",
       "      <td>718.000000</td>\n",
       "      <td>44.000000</td>\n",
       "      <td>127647.840000</td>\n",
       "      <td>149383.652500</td>\n",
       "    </tr>\n",
       "    <tr>\n",
       "      <th>max</th>\n",
       "      <td>850.000000</td>\n",
       "      <td>92.000000</td>\n",
       "      <td>250898.090000</td>\n",
       "      <td>199992.480000</td>\n",
       "    </tr>\n",
       "  </tbody>\n",
       "</table>\n",
       "</div>"
      ],
      "text/plain": [
       "        CreditScore           Age        Balance  EstimatedSalary\n",
       "count  10002.000000  10001.000000   10002.000000     10002.000000\n",
       "mean     650.555089     38.922311   76491.112875    100083.331145\n",
       "std       96.661615     10.487200   62393.474144     57508.117802\n",
       "min      350.000000     18.000000       0.000000        11.580000\n",
       "25%      584.000000     32.000000       0.000000     50983.750000\n",
       "50%      652.000000     37.000000   97198.540000    100185.240000\n",
       "75%      718.000000     44.000000  127647.840000    149383.652500\n",
       "max      850.000000     92.000000  250898.090000    199992.480000"
      ]
     },
     "execution_count": 7,
     "metadata": {},
     "output_type": "execute_result"
    }
   ],
   "source": [
    "# We look at summary statistics for numerical variables like 'CreditScore' and 'Age' to spot outliers.\n",
    "# This helps us understand the distribution of values ​​and identify extremes.\n",
    "df[[\"CreditScore\", \"Age\", \"Balance\", \"EstimatedSalary\"]].describe()"
   ]
  },
  {
   "cell_type": "code",
   "execution_count": 8,
   "id": "963779d1-8e26-4791-a8d4-53650a2a4859",
   "metadata": {},
   "outputs": [],
   "source": [
    "# Because missing values ​​are few and have minimal impact, we fill them with the most frequent value.\n",
    "df[\"Geography\"].fillna(df[\"Geography\"].mode()[0], inplace=True)  # We fill in using the most frequently occurring value.\n",
    "df[\"Age\"].fillna(df[\"Age\"].median(), inplace=True)  # We fill the age column with the median value.\n",
    "df[\"HasCrCard\"].fillna(df[\"HasCrCard\"].mode()[0], inplace=True)  # We fill in the most frequently occurring value.\n",
    "df[\"IsActiveMember\"].fillna(df[\"IsActiveMember\"].mode()[0], inplace=True)  # We fill in the most frequently occurring value."
   ]
  },
  {
   "cell_type": "code",
   "execution_count": 9,
   "id": "8ab7c1c3-fb38-4cfe-bc9f-225a72c5d487",
   "metadata": {},
   "outputs": [
    {
     "data": {
      "text/plain": [
       "RowNumber          0\n",
       "CustomerId         0\n",
       "Surname            0\n",
       "CreditScore        0\n",
       "Geography          0\n",
       "Gender             0\n",
       "Age                0\n",
       "Tenure             0\n",
       "Balance            0\n",
       "NumOfProducts      0\n",
       "HasCrCard          0\n",
       "IsActiveMember     0\n",
       "EstimatedSalary    0\n",
       "Exited             0\n",
       "dtype: int64"
      ]
     },
     "execution_count": 9,
     "metadata": {},
     "output_type": "execute_result"
    }
   ],
   "source": [
    "# We check for missing values ​​again to verify that the missing values ​​were filled successfully.\n",
    "df.isnull().sum()"
   ]
  },
  {
   "cell_type": "markdown",
   "id": "32fcbbe9-bee6-4985-92f5-5950f5a5dc8d",
   "metadata": {},
   "source": [
    "### Feature Encoding"
   ]
  },
  {
   "cell_type": "code",
   "execution_count": 10,
   "id": "f44536a7-f5ef-42ea-9508-4b6eb63618a5",
   "metadata": {},
   "outputs": [],
   "source": [
    "# Numerical coding is needed for categorical variables to be used in the model.\n",
    "# 'We encode the \"Geography\" variable using the one-hot encoding method.\n",
    "df = pd.get_dummies(df, columns=[\"Geography\"], drop_first=True)"
   ]
  },
  {
   "cell_type": "code",
   "execution_count": 11,
   "id": "48372f15-cc9c-47b7-969c-cb3c5f745530",
   "metadata": {},
   "outputs": [],
   "source": [
    "# We encode the \"Gender\" variable with the binary encoding method. We arrange it so that Female=0, Male=1.\n",
    "df[\"Gender\"] = df[\"Gender\"].map({\"Female\": 0, \"Male\": 1})"
   ]
  },
  {
   "cell_type": "code",
   "execution_count": 12,
   "id": "046c7b96-88bc-4f68-b937-c7d225074511",
   "metadata": {},
   "outputs": [
    {
     "data": {
      "text/html": [
       "<div>\n",
       "<style scoped>\n",
       "    .dataframe tbody tr th:only-of-type {\n",
       "        vertical-align: middle;\n",
       "    }\n",
       "\n",
       "    .dataframe tbody tr th {\n",
       "        vertical-align: top;\n",
       "    }\n",
       "\n",
       "    .dataframe thead th {\n",
       "        text-align: right;\n",
       "    }\n",
       "</style>\n",
       "<table border=\"1\" class=\"dataframe\">\n",
       "  <thead>\n",
       "    <tr style=\"text-align: right;\">\n",
       "      <th></th>\n",
       "      <th>RowNumber</th>\n",
       "      <th>CustomerId</th>\n",
       "      <th>Surname</th>\n",
       "      <th>CreditScore</th>\n",
       "      <th>Gender</th>\n",
       "      <th>Age</th>\n",
       "      <th>Tenure</th>\n",
       "      <th>Balance</th>\n",
       "      <th>NumOfProducts</th>\n",
       "      <th>HasCrCard</th>\n",
       "      <th>IsActiveMember</th>\n",
       "      <th>EstimatedSalary</th>\n",
       "      <th>Exited</th>\n",
       "      <th>Geography_Germany</th>\n",
       "      <th>Geography_Spain</th>\n",
       "    </tr>\n",
       "  </thead>\n",
       "  <tbody>\n",
       "    <tr>\n",
       "      <th>0</th>\n",
       "      <td>1</td>\n",
       "      <td>15634602</td>\n",
       "      <td>Hargrave</td>\n",
       "      <td>619</td>\n",
       "      <td>0</td>\n",
       "      <td>42.0</td>\n",
       "      <td>2</td>\n",
       "      <td>0.00</td>\n",
       "      <td>1</td>\n",
       "      <td>1.0</td>\n",
       "      <td>1.0</td>\n",
       "      <td>101348.88</td>\n",
       "      <td>1</td>\n",
       "      <td>False</td>\n",
       "      <td>False</td>\n",
       "    </tr>\n",
       "    <tr>\n",
       "      <th>1</th>\n",
       "      <td>2</td>\n",
       "      <td>15647311</td>\n",
       "      <td>Hill</td>\n",
       "      <td>608</td>\n",
       "      <td>0</td>\n",
       "      <td>41.0</td>\n",
       "      <td>1</td>\n",
       "      <td>83807.86</td>\n",
       "      <td>1</td>\n",
       "      <td>0.0</td>\n",
       "      <td>1.0</td>\n",
       "      <td>112542.58</td>\n",
       "      <td>0</td>\n",
       "      <td>False</td>\n",
       "      <td>True</td>\n",
       "    </tr>\n",
       "    <tr>\n",
       "      <th>2</th>\n",
       "      <td>3</td>\n",
       "      <td>15619304</td>\n",
       "      <td>Onio</td>\n",
       "      <td>502</td>\n",
       "      <td>0</td>\n",
       "      <td>42.0</td>\n",
       "      <td>8</td>\n",
       "      <td>159660.80</td>\n",
       "      <td>3</td>\n",
       "      <td>1.0</td>\n",
       "      <td>0.0</td>\n",
       "      <td>113931.57</td>\n",
       "      <td>1</td>\n",
       "      <td>False</td>\n",
       "      <td>False</td>\n",
       "    </tr>\n",
       "    <tr>\n",
       "      <th>3</th>\n",
       "      <td>4</td>\n",
       "      <td>15701354</td>\n",
       "      <td>Boni</td>\n",
       "      <td>699</td>\n",
       "      <td>0</td>\n",
       "      <td>39.0</td>\n",
       "      <td>1</td>\n",
       "      <td>0.00</td>\n",
       "      <td>2</td>\n",
       "      <td>0.0</td>\n",
       "      <td>0.0</td>\n",
       "      <td>93826.63</td>\n",
       "      <td>0</td>\n",
       "      <td>False</td>\n",
       "      <td>False</td>\n",
       "    </tr>\n",
       "    <tr>\n",
       "      <th>4</th>\n",
       "      <td>5</td>\n",
       "      <td>15737888</td>\n",
       "      <td>Mitchell</td>\n",
       "      <td>850</td>\n",
       "      <td>0</td>\n",
       "      <td>43.0</td>\n",
       "      <td>2</td>\n",
       "      <td>125510.82</td>\n",
       "      <td>1</td>\n",
       "      <td>1.0</td>\n",
       "      <td>1.0</td>\n",
       "      <td>79084.10</td>\n",
       "      <td>0</td>\n",
       "      <td>False</td>\n",
       "      <td>True</td>\n",
       "    </tr>\n",
       "  </tbody>\n",
       "</table>\n",
       "</div>"
      ],
      "text/plain": [
       "   RowNumber  CustomerId   Surname  CreditScore  Gender   Age  Tenure  \\\n",
       "0          1    15634602  Hargrave          619       0  42.0       2   \n",
       "1          2    15647311      Hill          608       0  41.0       1   \n",
       "2          3    15619304      Onio          502       0  42.0       8   \n",
       "3          4    15701354      Boni          699       0  39.0       1   \n",
       "4          5    15737888  Mitchell          850       0  43.0       2   \n",
       "\n",
       "     Balance  NumOfProducts  HasCrCard  IsActiveMember  EstimatedSalary  \\\n",
       "0       0.00              1        1.0             1.0        101348.88   \n",
       "1   83807.86              1        0.0             1.0        112542.58   \n",
       "2  159660.80              3        1.0             0.0        113931.57   \n",
       "3       0.00              2        0.0             0.0         93826.63   \n",
       "4  125510.82              1        1.0             1.0         79084.10   \n",
       "\n",
       "   Exited  Geography_Germany  Geography_Spain  \n",
       "0       1              False            False  \n",
       "1       0              False             True  \n",
       "2       1              False            False  \n",
       "3       0              False            False  \n",
       "4       0              False             True  "
      ]
     },
     "execution_count": 12,
     "metadata": {},
     "output_type": "execute_result"
    }
   ],
   "source": [
    "# We display the first few lines to verify that the encoding was successful.\n",
    "df_encoded_head = df.head()\n",
    "\n",
    "df_encoded_head"
   ]
  },
  {
   "cell_type": "markdown",
   "id": "f1f92d84-5297-4bcb-89fb-4a087cd795e4",
   "metadata": {},
   "source": [
    "### Data Standardization"
   ]
  },
  {
   "cell_type": "code",
   "execution_count": 13,
   "id": "f1c1ecfd-dadc-4121-8ec2-4171c694d0e9",
   "metadata": {},
   "outputs": [],
   "source": [
    "# Scaling numeric variables helps models perform better.\n",
    "# Using StandardScaler, we scale numeric columns such as \"CreditScore\", \"Age\", \"Balance\", \"EstimatedSalary\".\n",
    "\n",
    "from sklearn.preprocessing import StandardScaler\n",
    "\n",
    "# We determine the numeric columns to be standardized\n",
    "numeric_features = [\"CreditScore\", \"Age\", \"Balance\", \"EstimatedSalary\"]\n",
    "scaler = StandardScaler()"
   ]
  },
  {
   "cell_type": "code",
   "execution_count": 14,
   "id": "a4b83f20-88db-4dab-99b2-9edf2f333907",
   "metadata": {},
   "outputs": [
    {
     "data": {
      "text/html": [
       "<div>\n",
       "<style scoped>\n",
       "    .dataframe tbody tr th:only-of-type {\n",
       "        vertical-align: middle;\n",
       "    }\n",
       "\n",
       "    .dataframe tbody tr th {\n",
       "        vertical-align: top;\n",
       "    }\n",
       "\n",
       "    .dataframe thead th {\n",
       "        text-align: right;\n",
       "    }\n",
       "</style>\n",
       "<table border=\"1\" class=\"dataframe\">\n",
       "  <thead>\n",
       "    <tr style=\"text-align: right;\">\n",
       "      <th></th>\n",
       "      <th>RowNumber</th>\n",
       "      <th>CustomerId</th>\n",
       "      <th>Surname</th>\n",
       "      <th>CreditScore</th>\n",
       "      <th>Gender</th>\n",
       "      <th>Age</th>\n",
       "      <th>Tenure</th>\n",
       "      <th>Balance</th>\n",
       "      <th>NumOfProducts</th>\n",
       "      <th>HasCrCard</th>\n",
       "      <th>IsActiveMember</th>\n",
       "      <th>EstimatedSalary</th>\n",
       "      <th>Exited</th>\n",
       "      <th>Geography_Germany</th>\n",
       "      <th>Geography_Spain</th>\n",
       "    </tr>\n",
       "  </thead>\n",
       "  <tbody>\n",
       "    <tr>\n",
       "      <th>0</th>\n",
       "      <td>1</td>\n",
       "      <td>15634602</td>\n",
       "      <td>Hargrave</td>\n",
       "      <td>-0.326465</td>\n",
       "      <td>0</td>\n",
       "      <td>0.293518</td>\n",
       "      <td>2</td>\n",
       "      <td>-1.226009</td>\n",
       "      <td>1</td>\n",
       "      <td>1.0</td>\n",
       "      <td>1.0</td>\n",
       "      <td>0.022008</td>\n",
       "      <td>1</td>\n",
       "      <td>False</td>\n",
       "      <td>False</td>\n",
       "    </tr>\n",
       "    <tr>\n",
       "      <th>1</th>\n",
       "      <td>2</td>\n",
       "      <td>15647311</td>\n",
       "      <td>Hill</td>\n",
       "      <td>-0.440270</td>\n",
       "      <td>0</td>\n",
       "      <td>0.198154</td>\n",
       "      <td>1</td>\n",
       "      <td>0.117274</td>\n",
       "      <td>1</td>\n",
       "      <td>0.0</td>\n",
       "      <td>1.0</td>\n",
       "      <td>0.216663</td>\n",
       "      <td>0</td>\n",
       "      <td>False</td>\n",
       "      <td>True</td>\n",
       "    </tr>\n",
       "    <tr>\n",
       "      <th>2</th>\n",
       "      <td>3</td>\n",
       "      <td>15619304</td>\n",
       "      <td>Onio</td>\n",
       "      <td>-1.536934</td>\n",
       "      <td>0</td>\n",
       "      <td>0.293518</td>\n",
       "      <td>8</td>\n",
       "      <td>1.333054</td>\n",
       "      <td>3</td>\n",
       "      <td>1.0</td>\n",
       "      <td>0.0</td>\n",
       "      <td>0.240817</td>\n",
       "      <td>1</td>\n",
       "      <td>False</td>\n",
       "      <td>False</td>\n",
       "    </tr>\n",
       "    <tr>\n",
       "      <th>3</th>\n",
       "      <td>4</td>\n",
       "      <td>15701354</td>\n",
       "      <td>Boni</td>\n",
       "      <td>0.501205</td>\n",
       "      <td>0</td>\n",
       "      <td>0.007427</td>\n",
       "      <td>1</td>\n",
       "      <td>-1.226009</td>\n",
       "      <td>2</td>\n",
       "      <td>0.0</td>\n",
       "      <td>0.0</td>\n",
       "      <td>-0.108802</td>\n",
       "      <td>0</td>\n",
       "      <td>False</td>\n",
       "      <td>False</td>\n",
       "    </tr>\n",
       "    <tr>\n",
       "      <th>4</th>\n",
       "      <td>5</td>\n",
       "      <td>15737888</td>\n",
       "      <td>Mitchell</td>\n",
       "      <td>2.063434</td>\n",
       "      <td>0</td>\n",
       "      <td>0.388882</td>\n",
       "      <td>2</td>\n",
       "      <td>0.785694</td>\n",
       "      <td>1</td>\n",
       "      <td>1.0</td>\n",
       "      <td>1.0</td>\n",
       "      <td>-0.365171</td>\n",
       "      <td>0</td>\n",
       "      <td>False</td>\n",
       "      <td>True</td>\n",
       "    </tr>\n",
       "  </tbody>\n",
       "</table>\n",
       "</div>"
      ],
      "text/plain": [
       "   RowNumber  CustomerId   Surname  CreditScore  Gender       Age  Tenure  \\\n",
       "0          1    15634602  Hargrave    -0.326465       0  0.293518       2   \n",
       "1          2    15647311      Hill    -0.440270       0  0.198154       1   \n",
       "2          3    15619304      Onio    -1.536934       0  0.293518       8   \n",
       "3          4    15701354      Boni     0.501205       0  0.007427       1   \n",
       "4          5    15737888  Mitchell     2.063434       0  0.388882       2   \n",
       "\n",
       "    Balance  NumOfProducts  HasCrCard  IsActiveMember  EstimatedSalary  \\\n",
       "0 -1.226009              1        1.0             1.0         0.022008   \n",
       "1  0.117274              1        0.0             1.0         0.216663   \n",
       "2  1.333054              3        1.0             0.0         0.240817   \n",
       "3 -1.226009              2        0.0             0.0        -0.108802   \n",
       "4  0.785694              1        1.0             1.0        -0.365171   \n",
       "\n",
       "   Exited  Geography_Germany  Geography_Spain  \n",
       "0       1              False            False  \n",
       "1       0              False             True  \n",
       "2       1              False            False  \n",
       "3       0              False            False  \n",
       "4       0              False             True  "
      ]
     },
     "execution_count": 14,
     "metadata": {},
     "output_type": "execute_result"
    }
   ],
   "source": [
    "# We apply the scaling operation and save the new values ​​to the dataset\n",
    "df[numeric_features] = scaler.fit_transform(df[numeric_features])\n",
    "\n",
    "# We display the first few rows of the scaled dataset.\n",
    "df_scaled_head = df.head()\n",
    "\n",
    "df_scaled_head"
   ]
  },
  {
   "cell_type": "markdown",
   "id": "f9219264-7ee3-4bb1-8b42-5b4297503d10",
   "metadata": {},
   "source": [
    "## 2. Exploratory Data Analysis (EDA)"
   ]
  },
  {
   "cell_type": "markdown",
   "id": "364a80fb-2e63-4f31-ac74-7fda6ea0b592",
   "metadata": {},
   "source": [
    "### Data Visualization"
   ]
  },
  {
   "cell_type": "code",
   "execution_count": 15,
   "id": "ba12a025-d30e-47a9-a43d-13bdcff54fb4",
   "metadata": {},
   "outputs": [],
   "source": [
    "import matplotlib.pyplot as plt\n",
    "import seaborn as sns"
   ]
  },
  {
   "cell_type": "code",
   "execution_count": 16,
   "id": "2d96c313-7631-400f-9aef-b5431b9729d1",
   "metadata": {},
   "outputs": [
    {
     "name": "stderr",
     "output_type": "stream",
     "text": [
      "C:\\Users\\tayla\\anaconda3\\Lib\\site-packages\\seaborn\\_oldcore.py:1119: FutureWarning: use_inf_as_na option is deprecated and will be removed in a future version. Convert inf values to NaN before operating instead.\n",
      "  with pd.option_context('mode.use_inf_as_na', True):\n"
     ]
    },
    {
     "data": {
      "image/png": "[encoded data removed]",
      "text/plain": [
       "<Figure size 800x500 with 1 Axes>"
      ]
     },
     "metadata": {},
     "output_type": "display_data"
    }
   ],
   "source": [
    "# We visualize the age distribution in the dataset\n",
    "plt.figure(figsize=(8, 5))\n",
    "sns.histplot(df[\"Age\"], bins=30, kde=True, color=\"skyblue\")\n",
    "plt.title(\"Age Distribution\")\n",
    "plt.xlabel(\"Age\")\n",
    "plt.ylabel(\"Frequency\")\n",
    "plt.show()"
   ]
  },
  {
   "cell_type": "markdown",
   "id": "eae0b800-dcba-40f0-b4ce-9f7c021905c6",
   "metadata": {},
   "source": [
    "Age Distribution: We have analyzed the distribution of customer ages. This distribution helps us understand the age range and concentration areas of the customer portfolio."
   ]
  },
  {
   "cell_type": "code",
   "execution_count": 17,
   "id": "33303f13-c26f-429f-8fa9-cb5eb7d38cd6",
   "metadata": {},
   "outputs": [
    {
     "data": {
      "image/png": "[encoded data removed]",
      "text/plain": [
       "<Figure size 600x400 with 1 Axes>"
      ]
     },
     "metadata": {},
     "output_type": "display_data"
    }
   ],
   "source": [
    "# We visualize the customer churn rate (Exited variable)\n",
    "plt.figure(figsize=(6, 4))\n",
    "sns.countplot(x=\"Exited\", data=df, palette=\"viridis\")\n",
    "plt.title(\"Customer Churn Distribution\")\n",
    "plt.xlabel(\"Exited (0 = No, 1 = Yes)\")\n",
    "plt.ylabel(\"Count\")\n",
    "plt.show()"
   ]
  },
  {
   "cell_type": "markdown",
   "id": "05d413b5-b110-4b00-bbc3-bb8eefd28009",
   "metadata": {},
   "source": [
    "Churn Rate (Exited): By visualizing the churn rate, we examined the overall distribution of churn rate in the data."
   ]
  },
  {
   "cell_type": "code",
   "execution_count": 18,
   "id": "dc52b527-3013-41d2-a7ca-8af8a646d3d2",
   "metadata": {},
   "outputs": [
    {
     "ename": "AttributeError",
     "evalue": "'numpy.int64' object has no attribute 'startswith'",
     "output_type": "error",
     "traceback": [
      "\u001b[1;31m---------------------------------------------------------------------------\u001b[0m",
      "\u001b[1;31mAttributeError\u001b[0m                            Traceback (most recent call last)",
      "Cell \u001b[1;32mIn[18], line 3\u001b[0m\n\u001b[0;32m      1\u001b[0m \u001b[38;5;66;03m# We analyze churn rate by \"Geography\" column\u001b[39;00m\n\u001b[0;32m      2\u001b[0m plt\u001b[38;5;241m.\u001b[39mfigure(figsize\u001b[38;5;241m=\u001b[39m(\u001b[38;5;241m8\u001b[39m, \u001b[38;5;241m5\u001b[39m))\n\u001b[1;32m----> 3\u001b[0m sns\u001b[38;5;241m.\u001b[39mcountplot(x\u001b[38;5;241m=\u001b[39m\u001b[38;5;124m\"\u001b[39m\u001b[38;5;124mGeography_Germany\u001b[39m\u001b[38;5;124m\"\u001b[39m, hue\u001b[38;5;241m=\u001b[39m\u001b[38;5;124m\"\u001b[39m\u001b[38;5;124mExited\u001b[39m\u001b[38;5;124m\"\u001b[39m, data\u001b[38;5;241m=\u001b[39mdf, palette\u001b[38;5;241m=\u001b[39m\u001b[38;5;124m\"\u001b[39m\u001b[38;5;124mpastel\u001b[39m\u001b[38;5;124m\"\u001b[39m)\n\u001b[0;32m      4\u001b[0m plt\u001b[38;5;241m.\u001b[39mtitle(\u001b[38;5;124m\"\u001b[39m\u001b[38;5;124mCustomer Churn by Geography (Germany)\u001b[39m\u001b[38;5;124m\"\u001b[39m)\n\u001b[0;32m      5\u001b[0m plt\u001b[38;5;241m.\u001b[39mxlabel(\u001b[38;5;124m\"\u001b[39m\u001b[38;5;124mGeography Germany (0 = No, 1 = Yes)\u001b[39m\u001b[38;5;124m\"\u001b[39m)\n",
      "File \u001b[1;32m~\\anaconda3\\Lib\\site-packages\\seaborn\\categorical.py:2955\u001b[0m, in \u001b[0;36mcountplot\u001b[1;34m(data, x, y, hue, order, hue_order, orient, color, palette, saturation, width, dodge, ax, **kwargs)\u001b[0m\n\u001b[0;32m   2952\u001b[0m \u001b[38;5;28;01mif\u001b[39;00m ax \u001b[38;5;129;01mis\u001b[39;00m \u001b[38;5;28;01mNone\u001b[39;00m:\n\u001b[0;32m   2953\u001b[0m     ax \u001b[38;5;241m=\u001b[39m plt\u001b[38;5;241m.\u001b[39mgca()\n\u001b[1;32m-> 2955\u001b[0m plotter\u001b[38;5;241m.\u001b[39mplot(ax, kwargs)\n\u001b[0;32m   2956\u001b[0m \u001b[38;5;28;01mreturn\u001b[39;00m ax\n",
      "File \u001b[1;32m~\\anaconda3\\Lib\\site-packages\\seaborn\\categorical.py:1587\u001b[0m, in \u001b[0;36m_BarPlotter.plot\u001b[1;34m(self, ax, bar_kws)\u001b[0m\n\u001b[0;32m   1585\u001b[0m \u001b[38;5;250m\u001b[39m\u001b[38;5;124;03m\"\"\"Make the plot.\"\"\"\u001b[39;00m\n\u001b[0;32m   1586\u001b[0m \u001b[38;5;28mself\u001b[39m\u001b[38;5;241m.\u001b[39mdraw_bars(ax, bar_kws)\n\u001b[1;32m-> 1587\u001b[0m \u001b[38;5;28mself\u001b[39m\u001b[38;5;241m.\u001b[39mannotate_axes(ax)\n\u001b[0;32m   1588\u001b[0m \u001b[38;5;28;01mif\u001b[39;00m \u001b[38;5;28mself\u001b[39m\u001b[38;5;241m.\u001b[39morient \u001b[38;5;241m==\u001b[39m \u001b[38;5;124m\"\u001b[39m\u001b[38;5;124mh\u001b[39m\u001b[38;5;124m\"\u001b[39m:\n\u001b[0;32m   1589\u001b[0m     ax\u001b[38;5;241m.\u001b[39minvert_yaxis()\n",
      "File \u001b[1;32m~\\anaconda3\\Lib\\site-packages\\seaborn\\categorical.py:767\u001b[0m, in \u001b[0;36m_CategoricalPlotter.annotate_axes\u001b[1;34m(self, ax)\u001b[0m\n\u001b[0;32m    764\u001b[0m     ax\u001b[38;5;241m.\u001b[39mset_ylim(\u001b[38;5;241m-\u001b[39m\u001b[38;5;241m.5\u001b[39m, \u001b[38;5;28mlen\u001b[39m(\u001b[38;5;28mself\u001b[39m\u001b[38;5;241m.\u001b[39mplot_data) \u001b[38;5;241m-\u001b[39m \u001b[38;5;241m.5\u001b[39m, auto\u001b[38;5;241m=\u001b[39m\u001b[38;5;28;01mNone\u001b[39;00m)\n\u001b[0;32m    766\u001b[0m \u001b[38;5;28;01mif\u001b[39;00m \u001b[38;5;28mself\u001b[39m\u001b[38;5;241m.\u001b[39mhue_names \u001b[38;5;129;01mis\u001b[39;00m \u001b[38;5;129;01mnot\u001b[39;00m \u001b[38;5;28;01mNone\u001b[39;00m:\n\u001b[1;32m--> 767\u001b[0m     ax\u001b[38;5;241m.\u001b[39mlegend(loc\u001b[38;5;241m=\u001b[39m\u001b[38;5;124m\"\u001b[39m\u001b[38;5;124mbest\u001b[39m\u001b[38;5;124m\"\u001b[39m, title\u001b[38;5;241m=\u001b[39m\u001b[38;5;28mself\u001b[39m\u001b[38;5;241m.\u001b[39mhue_title)\n",
      "File \u001b[1;32m~\\anaconda3\\Lib\\site-packages\\matplotlib\\axes\\_axes.py:322\u001b[0m, in \u001b[0;36mAxes.legend\u001b[1;34m(self, *args, **kwargs)\u001b[0m\n\u001b[0;32m    204\u001b[0m \u001b[38;5;129m@_docstring\u001b[39m\u001b[38;5;241m.\u001b[39mdedent_interpd\n\u001b[0;32m    205\u001b[0m \u001b[38;5;28;01mdef\u001b[39;00m \u001b[38;5;21mlegend\u001b[39m(\u001b[38;5;28mself\u001b[39m, \u001b[38;5;241m*\u001b[39margs, \u001b[38;5;241m*\u001b[39m\u001b[38;5;241m*\u001b[39mkwargs):\n\u001b[0;32m    206\u001b[0m \u001b[38;5;250m    \u001b[39m\u001b[38;5;124;03m\"\"\"\u001b[39;00m\n\u001b[0;32m    207\u001b[0m \u001b[38;5;124;03m    Place a legend on the Axes.\u001b[39;00m\n\u001b[0;32m    208\u001b[0m \n\u001b[1;32m   (...)\u001b[0m\n\u001b[0;32m    320\u001b[0m \u001b[38;5;124;03m    .. plot:: gallery/text_labels_and_annotations/legend.py\u001b[39;00m\n\u001b[0;32m    321\u001b[0m \u001b[38;5;124;03m    \"\"\"\u001b[39;00m\n\u001b[1;32m--> 322\u001b[0m     handles, labels, kwargs \u001b[38;5;241m=\u001b[39m mlegend\u001b[38;5;241m.\u001b[39m_parse_legend_args([\u001b[38;5;28mself\u001b[39m], \u001b[38;5;241m*\u001b[39margs, \u001b[38;5;241m*\u001b[39m\u001b[38;5;241m*\u001b[39mkwargs)\n\u001b[0;32m    323\u001b[0m     \u001b[38;5;28mself\u001b[39m\u001b[38;5;241m.\u001b[39mlegend_ \u001b[38;5;241m=\u001b[39m mlegend\u001b[38;5;241m.\u001b[39mLegend(\u001b[38;5;28mself\u001b[39m, handles, labels, \u001b[38;5;241m*\u001b[39m\u001b[38;5;241m*\u001b[39mkwargs)\n\u001b[0;32m    324\u001b[0m     \u001b[38;5;28mself\u001b[39m\u001b[38;5;241m.\u001b[39mlegend_\u001b[38;5;241m.\u001b[39m_remove_method \u001b[38;5;241m=\u001b[39m \u001b[38;5;28mself\u001b[39m\u001b[38;5;241m.\u001b[39m_remove_legend\n",
      "File \u001b[1;32m~\\anaconda3\\Lib\\site-packages\\matplotlib\\legend.py:1361\u001b[0m, in \u001b[0;36m_parse_legend_args\u001b[1;34m(axs, handles, labels, *args, **kwargs)\u001b[0m\n\u001b[0;32m   1357\u001b[0m     handles \u001b[38;5;241m=\u001b[39m [handle \u001b[38;5;28;01mfor\u001b[39;00m handle, label\n\u001b[0;32m   1358\u001b[0m                \u001b[38;5;129;01min\u001b[39;00m \u001b[38;5;28mzip\u001b[39m(_get_legend_handles(axs, handlers), labels)]\n\u001b[0;32m   1360\u001b[0m \u001b[38;5;28;01melif\u001b[39;00m \u001b[38;5;28mlen\u001b[39m(args) \u001b[38;5;241m==\u001b[39m \u001b[38;5;241m0\u001b[39m:  \u001b[38;5;66;03m# 0 args: automatically detect labels and handles.\u001b[39;00m\n\u001b[1;32m-> 1361\u001b[0m     handles, labels \u001b[38;5;241m=\u001b[39m _get_legend_handles_labels(axs, handlers)\n\u001b[0;32m   1362\u001b[0m     \u001b[38;5;28;01mif\u001b[39;00m \u001b[38;5;129;01mnot\u001b[39;00m handles:\n\u001b[0;32m   1363\u001b[0m         log\u001b[38;5;241m.\u001b[39mwarning(\n\u001b[0;32m   1364\u001b[0m             \u001b[38;5;124m\"\u001b[39m\u001b[38;5;124mNo artists with labels found to put in legend.  Note that \u001b[39m\u001b[38;5;124m\"\u001b[39m\n\u001b[0;32m   1365\u001b[0m             \u001b[38;5;124m\"\u001b[39m\u001b[38;5;124martists whose label start with an underscore are ignored \u001b[39m\u001b[38;5;124m\"\u001b[39m\n\u001b[0;32m   1366\u001b[0m             \u001b[38;5;124m\"\u001b[39m\u001b[38;5;124mwhen legend() is called with no argument.\u001b[39m\u001b[38;5;124m\"\u001b[39m)\n",
      "File \u001b[1;32m~\\anaconda3\\Lib\\site-packages\\matplotlib\\legend.py:1291\u001b[0m, in \u001b[0;36m_get_legend_handles_labels\u001b[1;34m(axs, legend_handler_map)\u001b[0m\n\u001b[0;32m   1289\u001b[0m \u001b[38;5;28;01mfor\u001b[39;00m handle \u001b[38;5;129;01min\u001b[39;00m _get_legend_handles(axs, legend_handler_map):\n\u001b[0;32m   1290\u001b[0m     label \u001b[38;5;241m=\u001b[39m handle\u001b[38;5;241m.\u001b[39mget_label()\n\u001b[1;32m-> 1291\u001b[0m     \u001b[38;5;28;01mif\u001b[39;00m label \u001b[38;5;129;01mand\u001b[39;00m \u001b[38;5;129;01mnot\u001b[39;00m label\u001b[38;5;241m.\u001b[39mstartswith(\u001b[38;5;124m'\u001b[39m\u001b[38;5;124m_\u001b[39m\u001b[38;5;124m'\u001b[39m):\n\u001b[0;32m   1292\u001b[0m         handles\u001b[38;5;241m.\u001b[39mappend(handle)\n\u001b[0;32m   1293\u001b[0m         labels\u001b[38;5;241m.\u001b[39mappend(label)\n",
      "\u001b[1;31mAttributeError\u001b[0m: 'numpy.int64' object has no attribute 'startswith'"
     ]
    },
    {
     "data": {
      "image/png": "[encoded data removed]",
      "text/plain": [
       "<Figure size 800x500 with 1 Axes>"
      ]
     },
     "metadata": {},
     "output_type": "display_data"
    }
   ],
   "source": [
    "# We analyze churn rate by \"Geography\" column\n",
    "plt.figure(figsize=(8, 5))\n",
    "sns.countplot(x=\"Geography_Germany\", hue=\"Exited\", data=df, palette=\"pastel\")\n",
    "plt.title(\"Customer Churn by Geography (Germany)\")\n",
    "plt.xlabel(\"Geography Germany (0 = No, 1 = Yes)\")\n",
    "plt.ylabel(\"Count\")\n",
    "plt.legend(title=\"Exited\")\n",
    "plt.show()"
   ]
  },
  {
   "cell_type": "markdown",
   "id": "93ff3a83-ba9f-493e-9995-926ff22ddc7c",
   "metadata": {},
   "source": [
    "Coğrafya ve Müşteri Kaybı (Geography_Germany): Almanya’daki müşterilerin churn oranını analiz ettik. Coğrafyanın müşteri kaybına olan etkisini bu yolla değerlendirebiliriz."
   ]
  },
  {
   "cell_type": "code",
   "execution_count": 19,
   "id": "d6bffd33-5e78-4431-90a7-b3bb117b9e3e",
   "metadata": {},
   "outputs": [
    {
     "name": "stderr",
     "output_type": "stream",
     "text": [
      "C:\\Users\\tayla\\anaconda3\\Lib\\site-packages\\seaborn\\_oldcore.py:1119: FutureWarning: use_inf_as_na option is deprecated and will be removed in a future version. Convert inf values to NaN before operating instead.\n",
      "  with pd.option_context('mode.use_inf_as_na', True):\n"
     ]
    },
    {
     "data": {
      "image/png": "[encoded data removed]",
      "text/plain": [
       "<Figure size 1000x600 with 1 Axes>"
      ]
     },
     "metadata": {},
     "output_type": "display_data"
    }
   ],
   "source": [
    "# Visualizing \"CreditScore\" distribution by customer churn\n",
    "plt.figure(figsize=(10, 6))\n",
    "sns.histplot(data=df, x=\"CreditScore\", hue=\"Exited\", kde=True, element=\"step\", palette=\"magma\")\n",
    "plt.title(\"Credit Score Distribution by Customer Churn\")\n",
    "plt.xlabel(\"Credit Score\")\n",
    "plt.ylabel(\"Density\")\n",
    "plt.show()"
   ]
  },
  {
   "cell_type": "markdown",
   "id": "d4ce231c-3ca8-4581-a4db-c20006785dfd",
   "metadata": {},
   "source": [
    "Credit Score and Customer Churn: We examined the relationship between credit score and customer churn by visualizing the credit score distribution by customer churn."
   ]
  },
  {
   "cell_type": "markdown",
   "id": "649a7ce1-29b6-4e64-8e03-a947ebcf63e0",
   "metadata": {},
   "source": [
    "### Customer Churn Analysis"
   ]
  },
  {
   "cell_type": "code",
   "execution_count": 20,
   "id": "6f4b480e-78ad-4c2a-8fe3-dedbcab57be5",
   "metadata": {},
   "outputs": [
    {
     "data": {
      "image/png": "[encoded data removed]",
      "text/plain": [
       "<Figure size 800x500 with 1 Axes>"
      ]
     },
     "metadata": {},
     "output_type": "display_data"
    }
   ],
   "source": [
    "# We analyze the impact of churn and non-churn groups on numerical variables\n",
    "# We compare the distribution of churning and non-churning customers according to the \"Age\" variable\n",
    "plt.figure(figsize=(8, 5))\n",
    "sns.boxplot(x=\"Exited\", y=\"Age\", data=df, palette=\"coolwarm\")\n",
    "plt.title(\"Age Distribution by Customer Churn\")\n",
    "plt.xlabel(\"Exited (0 = No, 1 = Yes)\")\n",
    "plt.ylabel(\"Age\")\n",
    "plt.show()"
   ]
  },
  {
   "cell_type": "markdown",
   "id": "2bc419ae-b5f0-4318-aa64-082427c28345",
   "metadata": {},
   "source": [
    "Age Distribution: It is observed that the average age of the group experiencing customer churn is slightly higher than the other group. Age can play an important role in customer churn."
   ]
  },
  {
   "cell_type": "code",
   "execution_count": 21,
   "id": "b9ee915d-63e4-4c68-bc0e-eaf1c2850003",
   "metadata": {},
   "outputs": [
    {
     "data": {
      "image/png": "[encoded data removed]",
      "text/plain": [
       "<Figure size 800x500 with 1 Axes>"
      ]
     },
     "metadata": {},
     "output_type": "display_data"
    }
   ],
   "source": [
    "# We compare the average and distribution of churning and non-churning customers according to the \"Balance\" variable\n",
    "plt.figure(figsize=(8, 5))\n",
    "sns.boxplot(x=\"Exited\", y=\"Balance\", data=df, palette=\"coolwarm\")\n",
    "plt.title(\"Balance Distribution by Customer Churn\")\n",
    "plt.xlabel(\"Exited (0 = No, 1 = Yes)\")\n",
    "plt.ylabel(\"Balance\")\n",
    "plt.show()"
   ]
  },
  {
   "cell_type": "markdown",
   "id": "c5c4609f-04c0-454a-8326-d07b105de219",
   "metadata": {},
   "source": [
    "Balance Distribution: It was observed that the balance of the group experiencing customer churn was generally higher than the other group. The balance amount may affect the customer's tendency to leave the service."
   ]
  },
  {
   "cell_type": "code",
   "execution_count": 22,
   "id": "c30e91d4-29ef-4df9-af14-da549dee673f",
   "metadata": {},
   "outputs": [
    {
     "data": {
      "image/png": "[encoded data removed]",
      "text/plain": [
       "<Figure size 800x500 with 1 Axes>"
      ]
     },
     "metadata": {},
     "output_type": "display_data"
    }
   ],
   "source": [
    "# Analyze the relationship between \"EstimatedSalary\" and churn status\n",
    "plt.figure(figsize=(8, 5))\n",
    "sns.boxplot(x=\"Exited\", y=\"EstimatedSalary\", data=df, palette=\"coolwarm\")\n",
    "plt.title(\"Estimated Salary Distribution by Customer Churn\")\n",
    "plt.xlabel(\"Exited (0 = No, 1 = Yes)\")\n",
    "plt.ylabel(\"Estimated Salary\")\n",
    "plt.show()"
   ]
  },
  {
   "cell_type": "markdown",
   "id": "012a3785-21c4-40f2-9e4d-0bed29033b77",
   "metadata": {},
   "source": [
    "Estimated Salary: No significant difference in salary was observed between the groups that experienced and did not experience churn."
   ]
  },
  {
   "cell_type": "code",
   "execution_count": 23,
   "id": "58946775-9e0b-40ac-98bf-8ef4573808c2",
   "metadata": {},
   "outputs": [
    {
     "data": {
      "text/html": [
       "<div>\n",
       "<style scoped>\n",
       "    .dataframe tbody tr th:only-of-type {\n",
       "        vertical-align: middle;\n",
       "    }\n",
       "\n",
       "    .dataframe tbody tr th {\n",
       "        vertical-align: top;\n",
       "    }\n",
       "\n",
       "    .dataframe thead th {\n",
       "        text-align: right;\n",
       "    }\n",
       "</style>\n",
       "<table border=\"1\" class=\"dataframe\">\n",
       "  <thead>\n",
       "    <tr style=\"text-align: right;\">\n",
       "      <th></th>\n",
       "      <th>Age</th>\n",
       "      <th>Balance</th>\n",
       "      <th>EstimatedSalary</th>\n",
       "      <th>CreditScore</th>\n",
       "    </tr>\n",
       "    <tr>\n",
       "      <th>Exited</th>\n",
       "      <th></th>\n",
       "      <th></th>\n",
       "      <th></th>\n",
       "      <th></th>\n",
       "    </tr>\n",
       "  </thead>\n",
       "  <tbody>\n",
       "    <tr>\n",
       "      <th>0</th>\n",
       "      <td>-0.144335</td>\n",
       "      <td>-0.059923</td>\n",
       "      <td>-0.006133</td>\n",
       "      <td>0.013612</td>\n",
       "    </tr>\n",
       "    <tr>\n",
       "      <th>1</th>\n",
       "      <td>0.564027</td>\n",
       "      <td>0.234164</td>\n",
       "      <td>0.023965</td>\n",
       "      <td>-0.053193</td>\n",
       "    </tr>\n",
       "  </tbody>\n",
       "</table>\n",
       "</div>"
      ],
      "text/plain": [
       "             Age   Balance  EstimatedSalary  CreditScore\n",
       "Exited                                                  \n",
       "0      -0.144335 -0.059923        -0.006133     0.013612\n",
       "1       0.564027  0.234164         0.023965    -0.053193"
      ]
     },
     "execution_count": 23,
     "metadata": {},
     "output_type": "execute_result"
    }
   ],
   "source": [
    "# We get more information by examining average values ​​​​by Churn status\n",
    "df.groupby(\"Exited\")[[\"Age\", \"Balance\", \"EstimatedSalary\", \"CreditScore\"]].mean()"
   ]
  },
  {
   "cell_type": "markdown",
   "id": "c142c91d-0eac-4617-8e34-1b49fb35951b",
   "metadata": {},
   "source": [
    "## 3. Feature Engineering"
   ]
  },
  {
   "cell_type": "markdown",
   "id": "38442d92-d576-48da-9fb0-c90178f12df7",
   "metadata": {},
   "source": [
    "### Creating New Features"
   ]
  },
  {
   "cell_type": "code",
   "execution_count": 24,
   "id": "20fe8222-e5d5-4b56-8276-1ee4bbff4e6a",
   "metadata": {},
   "outputs": [],
   "source": [
    "# We are creating a new feature called \"CreditAge\".\n",
    "# This feature combines the customer's credit score and age to provide more meaningful information about customer reliability.\n",
    "df[\"CreditAge\"] = df[\"CreditScore\"] * df[\"Age\"]"
   ]
  },
  {
   "cell_type": "markdown",
   "id": "308ded8e-c5f9-4863-826d-0fa294324312",
   "metadata": {},
   "source": [
    "CreditAge: A feature created by multiplying credit score and age. This feature aims to provide more detailed information about customer reliability and credit history."
   ]
  },
  {
   "cell_type": "code",
   "execution_count": 25,
   "id": "3468fbef-75aa-49ec-aa75-3697c410375b",
   "metadata": {},
   "outputs": [],
   "source": [
    "# We are building a feature called 'BalanceTenure' to measure customer mobility.\n",
    "# This feature provides a more detailed financial analysis by comparing customer balance to annual customer loyalty duration.\n",
    "df[\"BalanceTenure\"] = df[\"Balance\"] / (df[\"Tenure\"] + 1)  # We add +1 to prevent division error."
   ]
  },
  {
   "cell_type": "markdown",
   "id": "07611679-c6c3-4077-866d-dda0b7da2360",
   "metadata": {},
   "source": [
    "BalanceTenure: This feature, which is obtained by dividing the customer's balance by the customer loyalty period, can help us better understand the customer's financial behavior."
   ]
  },
  {
   "cell_type": "code",
   "execution_count": 26,
   "id": "90e1d0a8-4e70-4c2a-895b-25cf021c349e",
   "metadata": {},
   "outputs": [
    {
     "data": {
      "text/html": [
       "<div>\n",
       "<style scoped>\n",
       "    .dataframe tbody tr th:only-of-type {\n",
       "        vertical-align: middle;\n",
       "    }\n",
       "\n",
       "    .dataframe tbody tr th {\n",
       "        vertical-align: top;\n",
       "    }\n",
       "\n",
       "    .dataframe thead th {\n",
       "        text-align: right;\n",
       "    }\n",
       "</style>\n",
       "<table border=\"1\" class=\"dataframe\">\n",
       "  <thead>\n",
       "    <tr style=\"text-align: right;\">\n",
       "      <th></th>\n",
       "      <th>RowNumber</th>\n",
       "      <th>CustomerId</th>\n",
       "      <th>Surname</th>\n",
       "      <th>CreditScore</th>\n",
       "      <th>Gender</th>\n",
       "      <th>Age</th>\n",
       "      <th>Tenure</th>\n",
       "      <th>Balance</th>\n",
       "      <th>NumOfProducts</th>\n",
       "      <th>HasCrCard</th>\n",
       "      <th>IsActiveMember</th>\n",
       "      <th>EstimatedSalary</th>\n",
       "      <th>Exited</th>\n",
       "      <th>Geography_Germany</th>\n",
       "      <th>Geography_Spain</th>\n",
       "      <th>CreditAge</th>\n",
       "      <th>BalanceTenure</th>\n",
       "    </tr>\n",
       "  </thead>\n",
       "  <tbody>\n",
       "    <tr>\n",
       "      <th>0</th>\n",
       "      <td>1</td>\n",
       "      <td>15634602</td>\n",
       "      <td>Hargrave</td>\n",
       "      <td>-0.326465</td>\n",
       "      <td>0</td>\n",
       "      <td>0.293518</td>\n",
       "      <td>2</td>\n",
       "      <td>-1.226009</td>\n",
       "      <td>1</td>\n",
       "      <td>1.0</td>\n",
       "      <td>1.0</td>\n",
       "      <td>0.022008</td>\n",
       "      <td>1</td>\n",
       "      <td>False</td>\n",
       "      <td>False</td>\n",
       "      <td>-0.095824</td>\n",
       "      <td>-0.408670</td>\n",
       "    </tr>\n",
       "    <tr>\n",
       "      <th>1</th>\n",
       "      <td>2</td>\n",
       "      <td>15647311</td>\n",
       "      <td>Hill</td>\n",
       "      <td>-0.440270</td>\n",
       "      <td>0</td>\n",
       "      <td>0.198154</td>\n",
       "      <td>1</td>\n",
       "      <td>0.117274</td>\n",
       "      <td>1</td>\n",
       "      <td>0.0</td>\n",
       "      <td>1.0</td>\n",
       "      <td>0.216663</td>\n",
       "      <td>0</td>\n",
       "      <td>False</td>\n",
       "      <td>True</td>\n",
       "      <td>-0.087241</td>\n",
       "      <td>0.058637</td>\n",
       "    </tr>\n",
       "    <tr>\n",
       "      <th>2</th>\n",
       "      <td>3</td>\n",
       "      <td>15619304</td>\n",
       "      <td>Onio</td>\n",
       "      <td>-1.536934</td>\n",
       "      <td>0</td>\n",
       "      <td>0.293518</td>\n",
       "      <td>8</td>\n",
       "      <td>1.333054</td>\n",
       "      <td>3</td>\n",
       "      <td>1.0</td>\n",
       "      <td>0.0</td>\n",
       "      <td>0.240817</td>\n",
       "      <td>1</td>\n",
       "      <td>False</td>\n",
       "      <td>False</td>\n",
       "      <td>-0.451118</td>\n",
       "      <td>0.148117</td>\n",
       "    </tr>\n",
       "    <tr>\n",
       "      <th>3</th>\n",
       "      <td>4</td>\n",
       "      <td>15701354</td>\n",
       "      <td>Boni</td>\n",
       "      <td>0.501205</td>\n",
       "      <td>0</td>\n",
       "      <td>0.007427</td>\n",
       "      <td>1</td>\n",
       "      <td>-1.226009</td>\n",
       "      <td>2</td>\n",
       "      <td>0.0</td>\n",
       "      <td>0.0</td>\n",
       "      <td>-0.108802</td>\n",
       "      <td>0</td>\n",
       "      <td>False</td>\n",
       "      <td>False</td>\n",
       "      <td>0.003722</td>\n",
       "      <td>-0.613004</td>\n",
       "    </tr>\n",
       "    <tr>\n",
       "      <th>4</th>\n",
       "      <td>5</td>\n",
       "      <td>15737888</td>\n",
       "      <td>Mitchell</td>\n",
       "      <td>2.063434</td>\n",
       "      <td>0</td>\n",
       "      <td>0.388882</td>\n",
       "      <td>2</td>\n",
       "      <td>0.785694</td>\n",
       "      <td>1</td>\n",
       "      <td>1.0</td>\n",
       "      <td>1.0</td>\n",
       "      <td>-0.365171</td>\n",
       "      <td>0</td>\n",
       "      <td>False</td>\n",
       "      <td>True</td>\n",
       "      <td>0.802432</td>\n",
       "      <td>0.261898</td>\n",
       "    </tr>\n",
       "  </tbody>\n",
       "</table>\n",
       "</div>"
      ],
      "text/plain": [
       "   RowNumber  CustomerId   Surname  CreditScore  Gender       Age  Tenure  \\\n",
       "0          1    15634602  Hargrave    -0.326465       0  0.293518       2   \n",
       "1          2    15647311      Hill    -0.440270       0  0.198154       1   \n",
       "2          3    15619304      Onio    -1.536934       0  0.293518       8   \n",
       "3          4    15701354      Boni     0.501205       0  0.007427       1   \n",
       "4          5    15737888  Mitchell     2.063434       0  0.388882       2   \n",
       "\n",
       "    Balance  NumOfProducts  HasCrCard  IsActiveMember  EstimatedSalary  \\\n",
       "0 -1.226009              1        1.0             1.0         0.022008   \n",
       "1  0.117274              1        0.0             1.0         0.216663   \n",
       "2  1.333054              3        1.0             0.0         0.240817   \n",
       "3 -1.226009              2        0.0             0.0        -0.108802   \n",
       "4  0.785694              1        1.0             1.0        -0.365171   \n",
       "\n",
       "   Exited  Geography_Germany  Geography_Spain  CreditAge  BalanceTenure  \n",
       "0       1              False            False  -0.095824      -0.408670  \n",
       "1       0              False             True  -0.087241       0.058637  \n",
       "2       1              False            False  -0.451118       0.148117  \n",
       "3       0              False            False   0.003722      -0.613004  \n",
       "4       0              False             True   0.802432       0.261898  "
      ]
     },
     "execution_count": 26,
     "metadata": {},
     "output_type": "execute_result"
    }
   ],
   "source": [
    "# We display the first few rows to verify that the new features have been added to the dataset.\n",
    "df.head()"
   ]
  },
  {
   "cell_type": "markdown",
   "id": "1274d697-607e-40c7-b529-fbba76cbbd2b",
   "metadata": {},
   "source": [
    "### Feature Selection"
   ]
  },
  {
   "cell_type": "code",
   "execution_count": 27,
   "id": "befbf889-95db-484b-8f0a-6c4d73e03aa9",
   "metadata": {},
   "outputs": [],
   "source": [
    "from sklearn.feature_selection import SelectKBest, f_classif\n",
    "\n",
    "# We select the best features with the highest correlation with the target variable (Exited).\n",
    "X = df.drop(columns=[\"RowNumber\", \"CustomerId\", \"Surname\", \"Exited\"])  # Remove columns that are not required for the model\n",
    "y = df[\"Exited\"]"
   ]
  },
  {
   "cell_type": "code",
   "execution_count": 28,
   "id": "89f62f96-cea8-41c3-98e1-2e07c13d8715",
   "metadata": {},
   "outputs": [],
   "source": [
    "# We use SelectKBest to select the top 10 features\n",
    "selector = SelectKBest(score_func=f_classif, k=10)\n",
    "X_new = selector.fit_transform(X, y)"
   ]
  },
  {
   "cell_type": "code",
   "execution_count": 29,
   "id": "492a20f9-3769-46be-9238-52198abec9b1",
   "metadata": {},
   "outputs": [
    {
     "data": {
      "text/plain": [
       "Index(['CreditScore', 'Gender', 'Age', 'Balance', 'NumOfProducts',\n",
       "       'IsActiveMember', 'Geography_Germany', 'Geography_Spain', 'CreditAge',\n",
       "       'BalanceTenure'],\n",
       "      dtype='object')"
      ]
     },
     "execution_count": 29,
     "metadata": {},
     "output_type": "execute_result"
    }
   ],
   "source": [
    "# We display the column names of the selected features\n",
    "selected_features = X.columns[selector.get_support()]\n",
    "\n",
    "selected_features"
   ]
  },
  {
   "cell_type": "markdown",
   "id": "5a8c3d97-6be5-4cd6-ba3a-641c972885ff",
   "metadata": {},
   "source": [
    "## 4. Modeling and Evaluation"
   ]
  },
  {
   "cell_type": "markdown",
   "id": "d62c5aa7-6bc3-46fb-80df-0b18b959ba04",
   "metadata": {},
   "source": [
    "### Splitting the Dataset"
   ]
  },
  {
   "cell_type": "code",
   "execution_count": 30,
   "id": "50bfb48d-dcba-4548-aa83-0cc07cbf424b",
   "metadata": {},
   "outputs": [],
   "source": [
    "from sklearn.model_selection import train_test_split\n",
    "\n",
    "# We divide our dataset containing the best selected features into training and test sets.\n",
    "X_selected = df[selected_features]  # Only selected features are used\n",
    "y = df[\"Exited\"]"
   ]
  },
  {
   "cell_type": "code",
   "execution_count": 31,
   "id": "1b699e01-4330-4961-9164-d0fa73f47991",
   "metadata": {},
   "outputs": [
    {
     "data": {
      "text/plain": [
       "(((7001, 10), (3001, 10)), ((7001,), (3001,)))"
      ]
     },
     "execution_count": 31,
     "metadata": {},
     "output_type": "execute_result"
    }
   ],
   "source": [
    "# We split the training and test sets by 70% - 30%\n",
    "X_train, X_test, y_train, y_test = train_test_split(X_selected, y, test_size=0.3, random_state=42)\n",
    "\n",
    "# We display the sizes of training and test sets\n",
    "(X_train.shape, X_test.shape), (y_train.shape, y_test.shape)"
   ]
  },
  {
   "cell_type": "markdown",
   "id": "50c08f4d-4409-4622-b447-81de6435f4ac",
   "metadata": {},
   "source": [
    "### Applying Algorithms"
   ]
  },
  {
   "cell_type": "code",
   "execution_count": 32,
   "id": "88c527d9-46be-4b80-a229-407728b02650",
   "metadata": {},
   "outputs": [],
   "source": [
    "from sklearn.linear_model import LogisticRegression\n",
    "from sklearn.ensemble import RandomForestClassifier\n",
    "from sklearn.svm import SVC\n",
    "from sklearn.neighbors import KNeighborsClassifier\n",
    "from sklearn.ensemble import GradientBoostingClassifier\n",
    "from sklearn.metrics import accuracy_score"
   ]
  },
  {
   "cell_type": "code",
   "execution_count": 33,
   "id": "fe9f6342-594b-450f-a262-464c37d4ee73",
   "metadata": {},
   "outputs": [],
   "source": [
    "# We define models\n",
    "logistic_model = LogisticRegression(random_state=42, max_iter=1000)\n",
    "random_forest_model = RandomForestClassifier(random_state=42)\n",
    "svm_model = SVC(random_state=42)\n",
    "knn_model = KNeighborsClassifier()\n",
    "gradient_boosting_model = GradientBoostingClassifier(random_state=42)"
   ]
  },
  {
   "cell_type": "code",
   "execution_count": 34,
   "id": "040cca0b-b825-403a-9023-a5839acdf3ac",
   "metadata": {},
   "outputs": [],
   "source": [
    "# We train models on training and test sets and calculate accuracy rates\n",
    "models = {\n",
    "    \"Logistic Regression\": logistic_model,\n",
    "    \"Random Forest\": random_forest_model,\n",
    "    \"Support Vector Machine\": svm_model,\n",
    "    \"K-Nearest Neighbors\": knn_model,\n",
    "    \"Gradient Boosting\": gradient_boosting_model\n",
    "}"
   ]
  },
  {
   "cell_type": "code",
   "execution_count": 35,
   "id": "fb07c5f5-f648-4005-95f5-99d013724de3",
   "metadata": {},
   "outputs": [
    {
     "data": {
      "text/plain": [
       "{'Logistic Regression': 0.8083972009330224,\n",
       " 'Random Forest': 0.8653782072642453,\n",
       " 'Support Vector Machine': 0.862379206931023,\n",
       " 'K-Nearest Neighbors': 0.8347217594135288,\n",
       " 'Gradient Boosting': 0.8683772075974675}"
      ]
     },
     "execution_count": 35,
     "metadata": {},
     "output_type": "execute_result"
    }
   ],
   "source": [
    "# We create a dictionary to store accuracy rates to evaluate model performance\n",
    "model_accuracies = {}\n",
    "\n",
    "for model_name, model in models.items():\n",
    "    # Train the model\n",
    "    model.fit(X_train, y_train)\n",
    "    \n",
    "    # Predicting on the test set\n",
    "    y_pred = model.predict(X_test)\n",
    "    \n",
    "    # Calculating and storing accuracy rate\n",
    "    accuracy = accuracy_score(y_test, y_pred)\n",
    "    model_accuracies[model_name] = accuracy\n",
    "\n",
    "model_accuracies"
   ]
  },
  {
   "cell_type": "markdown",
   "id": "40354d39-7fb8-4e1d-aad4-b7d26c8ba481",
   "metadata": {},
   "source": [
    "### Hyperparameter Tuning"
   ]
  },
  {
   "cell_type": "code",
   "execution_count": 36,
   "id": "4f3fd53d-f149-4585-9c18-658ff1fbe1c7",
   "metadata": {},
   "outputs": [],
   "source": [
    "from sklearn.model_selection import GridSearchCV\n",
    "\n",
    "# We select our model for hyperparameter adjustments (Random Forest was one of the best results)\n",
    "# We determine the hyperparameter range for Random Forest\n",
    "param_grid_rf = {\n",
    "    \"n_estimators\": [100, 200, 300],\n",
    "    \"max_depth\": [10, 20, 30],\n",
    "    \"min_samples_split\": [2, 5, 10]\n",
    "}"
   ]
  },
  {
   "cell_type": "code",
   "execution_count": 37,
   "id": "3d04ef97-93ee-41de-b477-dde01ec52732",
   "metadata": {},
   "outputs": [],
   "source": [
    "# We find the best hyperparameters with GridSearchCV\n",
    "grid_search_rf = GridSearchCV(estimator=RandomForestClassifier(random_state=42), \n",
    "                              param_grid=param_grid_rf, \n",
    "                              scoring=\"accuracy\", \n",
    "                              cv=5, \n",
    "                              n_jobs=-1,\n",
    "                              verbose=1)"
   ]
  },
  {
   "cell_type": "code",
   "execution_count": 38,
   "id": "f7f5ca11-3960-47a6-b86e-7bc540fc09ca",
   "metadata": {},
   "outputs": [
    {
     "name": "stdout",
     "output_type": "stream",
     "text": [
      "Fitting 5 folds for each of 27 candidates, totalling 135 fits\n"
     ]
    },
    {
     "data": {
      "text/html": [
       "<style>#sk-container-id-1 {color: black;background-color: white;}#sk-container-id-1 pre{padding: 0;}#sk-container-id-1 div.sk-toggleable {background-color: white;}#sk-container-id-1 label.sk-toggleable__label {cursor: pointer;display: block;width: 100%;margin-bottom: 0;padding: 0.3em;box-sizing: border-box;text-align: center;}#sk-container-id-1 label.sk-toggleable__label-arrow:before {content: \"▸\";float: left;margin-right: 0.25em;color: #696969;}#sk-container-id-1 label.sk-toggleable__label-arrow:hover:before {color: black;}#sk-container-id-1 div.sk-estimator:hover label.sk-toggleable__label-arrow:before {color: black;}#sk-container-id-1 div.sk-toggleable__content {max-height: 0;max-width: 0;overflow: hidden;text-align: left;background-color: #f0f8ff;}#sk-container-id-1 div.sk-toggleable__content pre {margin: 0.2em;color: black;border-radius: 0.25em;background-color: #f0f8ff;}#sk-container-id-1 input.sk-toggleable__control:checked~div.sk-toggleable__content {max-height: 200px;max-width: 100%;overflow: auto;}#sk-container-id-1 input.sk-toggleable__control:checked~label.sk-toggleable__label-arrow:before {content: \"▾\";}#sk-container-id-1 div.sk-estimator input.sk-toggleable__control:checked~label.sk-toggleable__label {background-color: #d4ebff;}#sk-container-id-1 div.sk-label input.sk-toggleable__control:checked~label.sk-toggleable__label {background-color: #d4ebff;}#sk-container-id-1 input.sk-hidden--visually {border: 0;clip: rect(1px 1px 1px 1px);clip: rect(1px, 1px, 1px, 1px);height: 1px;margin: -1px;overflow: hidden;padding: 0;position: absolute;width: 1px;}#sk-container-id-1 div.sk-estimator {font-family: monospace;background-color: #f0f8ff;border: 1px dotted black;border-radius: 0.25em;box-sizing: border-box;margin-bottom: 0.5em;}#sk-container-id-1 div.sk-estimator:hover {background-color: #d4ebff;}#sk-container-id-1 div.sk-parallel-item::after {content: \"\";width: 100%;border-bottom: 1px solid gray;flex-grow: 1;}#sk-container-id-1 div.sk-label:hover label.sk-toggleable__label {background-color: #d4ebff;}#sk-container-id-1 div.sk-serial::before {content: \"\";position: absolute;border-left: 1px solid gray;box-sizing: border-box;top: 0;bottom: 0;left: 50%;z-index: 0;}#sk-container-id-1 div.sk-serial {display: flex;flex-direction: column;align-items: center;background-color: white;padding-right: 0.2em;padding-left: 0.2em;position: relative;}#sk-container-id-1 div.sk-item {position: relative;z-index: 1;}#sk-container-id-1 div.sk-parallel {display: flex;align-items: stretch;justify-content: center;background-color: white;position: relative;}#sk-container-id-1 div.sk-item::before, #sk-container-id-1 div.sk-parallel-item::before {content: \"\";position: absolute;border-left: 1px solid gray;box-sizing: border-box;top: 0;bottom: 0;left: 50%;z-index: -1;}#sk-container-id-1 div.sk-parallel-item {display: flex;flex-direction: column;z-index: 1;position: relative;background-color: white;}#sk-container-id-1 div.sk-parallel-item:first-child::after {align-self: flex-end;width: 50%;}#sk-container-id-1 div.sk-parallel-item:last-child::after {align-self: flex-start;width: 50%;}#sk-container-id-1 div.sk-parallel-item:only-child::after {width: 0;}#sk-container-id-1 div.sk-dashed-wrapped {border: 1px dashed gray;margin: 0 0.4em 0.5em 0.4em;box-sizing: border-box;padding-bottom: 0.4em;background-color: white;}#sk-container-id-1 div.sk-label label {font-family: monospace;font-weight: bold;display: inline-block;line-height: 1.2em;}#sk-container-id-1 div.sk-label-container {text-align: center;}#sk-container-id-1 div.sk-container {/* jupyter's `normalize.less` sets `[hidden] { display: none; }` but bootstrap.min.css set `[hidden] { display: none !important; }` so we also need the `!important` here to be able to override the default hidden behavior on the sphinx rendered scikit-learn.org. See: https://github.com/scikit-learn/scikit-learn/issues/21755 */display: inline-block !important;position: relative;}#sk-container-id-1 div.sk-text-repr-fallback {display: none;}</style><div id=\"sk-container-id-1\" class=\"sk-top-container\"><div class=\"sk-text-repr-fallback\"><pre>GridSearchCV(cv=5, estimator=RandomForestClassifier(random_state=42), n_jobs=-1,\n",
       "             param_grid={&#x27;max_depth&#x27;: [10, 20, 30],\n",
       "                         &#x27;min_samples_split&#x27;: [2, 5, 10],\n",
       "                         &#x27;n_estimators&#x27;: [100, 200, 300]},\n",
       "             scoring=&#x27;accuracy&#x27;, verbose=1)</pre><b>In a Jupyter environment, please rerun this cell to show the HTML representation or trust the notebook. <br />On GitHub, the HTML representation is unable to render, please try loading this page with nbviewer.org.</b></div><div class=\"sk-container\" hidden><div class=\"sk-item sk-dashed-wrapped\"><div class=\"sk-label-container\"><div class=\"sk-label sk-toggleable\"><input class=\"sk-toggleable__control sk-hidden--visually\" id=\"sk-estimator-id-1\" type=\"checkbox\" ><label for=\"sk-estimator-id-1\" class=\"sk-toggleable__label sk-toggleable__label-arrow\">GridSearchCV</label><div class=\"sk-toggleable__content\"><pre>GridSearchCV(cv=5, estimator=RandomForestClassifier(random_state=42), n_jobs=-1,\n",
       "             param_grid={&#x27;max_depth&#x27;: [10, 20, 30],\n",
       "                         &#x27;min_samples_split&#x27;: [2, 5, 10],\n",
       "                         &#x27;n_estimators&#x27;: [100, 200, 300]},\n",
       "             scoring=&#x27;accuracy&#x27;, verbose=1)</pre></div></div></div><div class=\"sk-parallel\"><div class=\"sk-parallel-item\"><div class=\"sk-item\"><div class=\"sk-label-container\"><div class=\"sk-label sk-toggleable\"><input class=\"sk-toggleable__control sk-hidden--visually\" id=\"sk-estimator-id-2\" type=\"checkbox\" ><label for=\"sk-estimator-id-2\" class=\"sk-toggleable__label sk-toggleable__label-arrow\">estimator: RandomForestClassifier</label><div class=\"sk-toggleable__content\"><pre>RandomForestClassifier(random_state=42)</pre></div></div></div><div class=\"sk-serial\"><div class=\"sk-item\"><div class=\"sk-estimator sk-toggleable\"><input class=\"sk-toggleable__control sk-hidden--visually\" id=\"sk-estimator-id-3\" type=\"checkbox\" ><label for=\"sk-estimator-id-3\" class=\"sk-toggleable__label sk-toggleable__label-arrow\">RandomForestClassifier</label><div class=\"sk-toggleable__content\"><pre>RandomForestClassifier(random_state=42)</pre></div></div></div></div></div></div></div></div></div></div>"
      ],
      "text/plain": [
       "GridSearchCV(cv=5, estimator=RandomForestClassifier(random_state=42), n_jobs=-1,\n",
       "             param_grid={'max_depth': [10, 20, 30],\n",
       "                         'min_samples_split': [2, 5, 10],\n",
       "                         'n_estimators': [100, 200, 300]},\n",
       "             scoring='accuracy', verbose=1)"
      ]
     },
     "execution_count": 38,
     "metadata": {},
     "output_type": "execute_result"
    }
   ],
   "source": [
    "# We train the model\n",
    "grid_search_rf.fit(X_train, y_train)"
   ]
  },
  {
   "cell_type": "code",
   "execution_count": 39,
   "id": "c0f8536f-2d30-4268-b58a-a75f7336b93a",
   "metadata": {},
   "outputs": [
    {
     "data": {
      "text/plain": [
       "({'max_depth': 20, 'min_samples_split': 10, 'n_estimators': 100},\n",
       " 0.8654481492811257)"
      ]
     },
     "execution_count": 39,
     "metadata": {},
     "output_type": "execute_result"
    }
   ],
   "source": [
    "# We get the best parameters and the best accuracy rate\n",
    "best_params_rf = grid_search_rf.best_params_\n",
    "best_score_rf = grid_search_rf.best_score_\n",
    "\n",
    "best_params_rf, best_score_rf"
   ]
  },
  {
   "cell_type": "code",
   "execution_count": 40,
   "id": "a05221da-4ea7-43bf-b22f-41c8b26b0654",
   "metadata": {},
   "outputs": [],
   "source": [
    "### Hyperparameter Tuning for Gradient Boosting\n",
    "\n",
    "from sklearn.ensemble import GradientBoostingClassifier\n",
    "\n",
    "# We specify the hyperparameter range for Gradient Boosting\n",
    "param_grid_gb = {\n",
    "    \"n_estimators\": [100, 200, 300],\n",
    "    \"learning_rate\": [0.01, 0.1, 0.2],\n",
    "    \"max_depth\": [3, 5, 7]\n",
    "}"
   ]
  },
  {
   "cell_type": "code",
   "execution_count": 41,
   "id": "3d6410ed-fc51-441f-9fcc-0ceca128e74d",
   "metadata": {},
   "outputs": [],
   "source": [
    "# Finding the best hyperparameters for Gradient Boosting with GridSearchCV\n",
    "grid_search_gb = GridSearchCV(estimator=GradientBoostingClassifier(random_state=42), \n",
    "                              param_grid=param_grid_gb, \n",
    "                              scoring=\"accuracy\", \n",
    "                              cv=5, \n",
    "                              n_jobs=-1,\n",
    "                              verbose=1)"
   ]
  },
  {
   "cell_type": "code",
   "execution_count": 42,
   "id": "0d857511-7122-431c-8f92-ab14e1f11506",
   "metadata": {},
   "outputs": [
    {
     "name": "stdout",
     "output_type": "stream",
     "text": [
      "Fitting 5 folds for each of 27 candidates, totalling 135 fits\n"
     ]
    },
    {
     "data": {
      "text/html": [
       "<style>#sk-container-id-2 {color: black;background-color: white;}#sk-container-id-2 pre{padding: 0;}#sk-container-id-2 div.sk-toggleable {background-color: white;}#sk-container-id-2 label.sk-toggleable__label {cursor: pointer;display: block;width: 100%;margin-bottom: 0;padding: 0.3em;box-sizing: border-box;text-align: center;}#sk-container-id-2 label.sk-toggleable__label-arrow:before {content: \"▸\";float: left;margin-right: 0.25em;color: #696969;}#sk-container-id-2 label.sk-toggleable__label-arrow:hover:before {color: black;}#sk-container-id-2 div.sk-estimator:hover label.sk-toggleable__label-arrow:before {color: black;}#sk-container-id-2 div.sk-toggleable__content {max-height: 0;max-width: 0;overflow: hidden;text-align: left;background-color: #f0f8ff;}#sk-container-id-2 div.sk-toggleable__content pre {margin: 0.2em;color: black;border-radius: 0.25em;background-color: #f0f8ff;}#sk-container-id-2 input.sk-toggleable__control:checked~div.sk-toggleable__content {max-height: 200px;max-width: 100%;overflow: auto;}#sk-container-id-2 input.sk-toggleable__control:checked~label.sk-toggleable__label-arrow:before {content: \"▾\";}#sk-container-id-2 div.sk-estimator input.sk-toggleable__control:checked~label.sk-toggleable__label {background-color: #d4ebff;}#sk-container-id-2 div.sk-label input.sk-toggleable__control:checked~label.sk-toggleable__label {background-color: #d4ebff;}#sk-container-id-2 input.sk-hidden--visually {border: 0;clip: rect(1px 1px 1px 1px);clip: rect(1px, 1px, 1px, 1px);height: 1px;margin: -1px;overflow: hidden;padding: 0;position: absolute;width: 1px;}#sk-container-id-2 div.sk-estimator {font-family: monospace;background-color: #f0f8ff;border: 1px dotted black;border-radius: 0.25em;box-sizing: border-box;margin-bottom: 0.5em;}#sk-container-id-2 div.sk-estimator:hover {background-color: #d4ebff;}#sk-container-id-2 div.sk-parallel-item::after {content: \"\";width: 100%;border-bottom: 1px solid gray;flex-grow: 1;}#sk-container-id-2 div.sk-label:hover label.sk-toggleable__label {background-color: #d4ebff;}#sk-container-id-2 div.sk-serial::before {content: \"\";position: absolute;border-left: 1px solid gray;box-sizing: border-box;top: 0;bottom: 0;left: 50%;z-index: 0;}#sk-container-id-2 div.sk-serial {display: flex;flex-direction: column;align-items: center;background-color: white;padding-right: 0.2em;padding-left: 0.2em;position: relative;}#sk-container-id-2 div.sk-item {position: relative;z-index: 1;}#sk-container-id-2 div.sk-parallel {display: flex;align-items: stretch;justify-content: center;background-color: white;position: relative;}#sk-container-id-2 div.sk-item::before, #sk-container-id-2 div.sk-parallel-item::before {content: \"\";position: absolute;border-left: 1px solid gray;box-sizing: border-box;top: 0;bottom: 0;left: 50%;z-index: -1;}#sk-container-id-2 div.sk-parallel-item {display: flex;flex-direction: column;z-index: 1;position: relative;background-color: white;}#sk-container-id-2 div.sk-parallel-item:first-child::after {align-self: flex-end;width: 50%;}#sk-container-id-2 div.sk-parallel-item:last-child::after {align-self: flex-start;width: 50%;}#sk-container-id-2 div.sk-parallel-item:only-child::after {width: 0;}#sk-container-id-2 div.sk-dashed-wrapped {border: 1px dashed gray;margin: 0 0.4em 0.5em 0.4em;box-sizing: border-box;padding-bottom: 0.4em;background-color: white;}#sk-container-id-2 div.sk-label label {font-family: monospace;font-weight: bold;display: inline-block;line-height: 1.2em;}#sk-container-id-2 div.sk-label-container {text-align: center;}#sk-container-id-2 div.sk-container {/* jupyter's `normalize.less` sets `[hidden] { display: none; }` but bootstrap.min.css set `[hidden] { display: none !important; }` so we also need the `!important` here to be able to override the default hidden behavior on the sphinx rendered scikit-learn.org. See: https://github.com/scikit-learn/scikit-learn/issues/21755 */display: inline-block !important;position: relative;}#sk-container-id-2 div.sk-text-repr-fallback {display: none;}</style><div id=\"sk-container-id-2\" class=\"sk-top-container\"><div class=\"sk-text-repr-fallback\"><pre>GridSearchCV(cv=5, estimator=GradientBoostingClassifier(random_state=42),\n",
       "             n_jobs=-1,\n",
       "             param_grid={&#x27;learning_rate&#x27;: [0.01, 0.1, 0.2],\n",
       "                         &#x27;max_depth&#x27;: [3, 5, 7],\n",
       "                         &#x27;n_estimators&#x27;: [100, 200, 300]},\n",
       "             scoring=&#x27;accuracy&#x27;, verbose=1)</pre><b>In a Jupyter environment, please rerun this cell to show the HTML representation or trust the notebook. <br />On GitHub, the HTML representation is unable to render, please try loading this page with nbviewer.org.</b></div><div class=\"sk-container\" hidden><div class=\"sk-item sk-dashed-wrapped\"><div class=\"sk-label-container\"><div class=\"sk-label sk-toggleable\"><input class=\"sk-toggleable__control sk-hidden--visually\" id=\"sk-estimator-id-4\" type=\"checkbox\" ><label for=\"sk-estimator-id-4\" class=\"sk-toggleable__label sk-toggleable__label-arrow\">GridSearchCV</label><div class=\"sk-toggleable__content\"><pre>GridSearchCV(cv=5, estimator=GradientBoostingClassifier(random_state=42),\n",
       "             n_jobs=-1,\n",
       "             param_grid={&#x27;learning_rate&#x27;: [0.01, 0.1, 0.2],\n",
       "                         &#x27;max_depth&#x27;: [3, 5, 7],\n",
       "                         &#x27;n_estimators&#x27;: [100, 200, 300]},\n",
       "             scoring=&#x27;accuracy&#x27;, verbose=1)</pre></div></div></div><div class=\"sk-parallel\"><div class=\"sk-parallel-item\"><div class=\"sk-item\"><div class=\"sk-label-container\"><div class=\"sk-label sk-toggleable\"><input class=\"sk-toggleable__control sk-hidden--visually\" id=\"sk-estimator-id-5\" type=\"checkbox\" ><label for=\"sk-estimator-id-5\" class=\"sk-toggleable__label sk-toggleable__label-arrow\">estimator: GradientBoostingClassifier</label><div class=\"sk-toggleable__content\"><pre>GradientBoostingClassifier(random_state=42)</pre></div></div></div><div class=\"sk-serial\"><div class=\"sk-item\"><div class=\"sk-estimator sk-toggleable\"><input class=\"sk-toggleable__control sk-hidden--visually\" id=\"sk-estimator-id-6\" type=\"checkbox\" ><label for=\"sk-estimator-id-6\" class=\"sk-toggleable__label sk-toggleable__label-arrow\">GradientBoostingClassifier</label><div class=\"sk-toggleable__content\"><pre>GradientBoostingClassifier(random_state=42)</pre></div></div></div></div></div></div></div></div></div></div>"
      ],
      "text/plain": [
       "GridSearchCV(cv=5, estimator=GradientBoostingClassifier(random_state=42),\n",
       "             n_jobs=-1,\n",
       "             param_grid={'learning_rate': [0.01, 0.1, 0.2],\n",
       "                         'max_depth': [3, 5, 7],\n",
       "                         'n_estimators': [100, 200, 300]},\n",
       "             scoring='accuracy', verbose=1)"
      ]
     },
     "execution_count": 42,
     "metadata": {},
     "output_type": "execute_result"
    }
   ],
   "source": [
    "# We train the model\n",
    "grid_search_gb.fit(X_train, y_train)"
   ]
  },
  {
   "cell_type": "code",
   "execution_count": 43,
   "id": "aecb7fc5-7682-4249-ba62-2791aa1789b4",
   "metadata": {},
   "outputs": [
    {
     "data": {
      "text/plain": [
       "({'learning_rate': 0.1, 'max_depth': 3, 'n_estimators': 200},\n",
       " 0.8628772305496074)"
      ]
     },
     "execution_count": 43,
     "metadata": {},
     "output_type": "execute_result"
    }
   ],
   "source": [
    "# We get the best parameters and the best accuracy rate\n",
    "best_params_gb = grid_search_gb.best_params_\n",
    "best_score_gb = grid_search_gb.best_score_\n",
    "\n",
    "best_params_gb, best_score_gb"
   ]
  },
  {
   "cell_type": "markdown",
   "id": "0eb8429d-efde-4614-a6a2-6baa03fb2b85",
   "metadata": {},
   "source": [
    "The accuracy rate obtained with the best hyperparameter settings in the Random Forest model is approximately 0.865. This rate is not lower than the adjusted result we got in the Gradient Boosting model and is quite close.\r\n",
    "\r\n",
    "Random Forest is generally faster and more resistant to overfitting. Therefore, it would be advantageous to continue with this model, especially in large data sets and when we want to get faster results."
   ]
  },
  {
   "cell_type": "markdown",
   "id": "c9dfc358-4672-4960-b06c-9508efd58d9e",
   "metadata": {},
   "source": [
    "### Model Performance Evaluation Metrics"
   ]
  },
  {
   "cell_type": "code",
   "execution_count": 44,
   "id": "55f2c202-6c44-454d-9973-6ffb552e8a10",
   "metadata": {},
   "outputs": [],
   "source": [
    "from sklearn.metrics import accuracy_score, precision_score, recall_score, f1_score, roc_auc_score\n",
    "\n",
    "# We retrain the models we determined as our final model with the best selected hyperparameters.\n",
    "rf_model = RandomForestClassifier(n_estimators=100, max_depth=20, min_samples_split=10, random_state=42)\n",
    "logistic_model = LogisticRegression(random_state=42, max_iter=1000)\n",
    "gradient_boosting_model = GradientBoostingClassifier(n_estimators=200, learning_rate=0.1, max_depth=3, random_state=42)"
   ]
  },
  {
   "cell_type": "code",
   "execution_count": 45,
   "id": "04ab3263-44cf-4b66-87ae-e4588898e253",
   "metadata": {},
   "outputs": [
    {
     "data": {
      "text/html": [
       "<style>#sk-container-id-3 {color: black;background-color: white;}#sk-container-id-3 pre{padding: 0;}#sk-container-id-3 div.sk-toggleable {background-color: white;}#sk-container-id-3 label.sk-toggleable__label {cursor: pointer;display: block;width: 100%;margin-bottom: 0;padding: 0.3em;box-sizing: border-box;text-align: center;}#sk-container-id-3 label.sk-toggleable__label-arrow:before {content: \"▸\";float: left;margin-right: 0.25em;color: #696969;}#sk-container-id-3 label.sk-toggleable__label-arrow:hover:before {color: black;}#sk-container-id-3 div.sk-estimator:hover label.sk-toggleable__label-arrow:before {color: black;}#sk-container-id-3 div.sk-toggleable__content {max-height: 0;max-width: 0;overflow: hidden;text-align: left;background-color: #f0f8ff;}#sk-container-id-3 div.sk-toggleable__content pre {margin: 0.2em;color: black;border-radius: 0.25em;background-color: #f0f8ff;}#sk-container-id-3 input.sk-toggleable__control:checked~div.sk-toggleable__content {max-height: 200px;max-width: 100%;overflow: auto;}#sk-container-id-3 input.sk-toggleable__control:checked~label.sk-toggleable__label-arrow:before {content: \"▾\";}#sk-container-id-3 div.sk-estimator input.sk-toggleable__control:checked~label.sk-toggleable__label {background-color: #d4ebff;}#sk-container-id-3 div.sk-label input.sk-toggleable__control:checked~label.sk-toggleable__label {background-color: #d4ebff;}#sk-container-id-3 input.sk-hidden--visually {border: 0;clip: rect(1px 1px 1px 1px);clip: rect(1px, 1px, 1px, 1px);height: 1px;margin: -1px;overflow: hidden;padding: 0;position: absolute;width: 1px;}#sk-container-id-3 div.sk-estimator {font-family: monospace;background-color: #f0f8ff;border: 1px dotted black;border-radius: 0.25em;box-sizing: border-box;margin-bottom: 0.5em;}#sk-container-id-3 div.sk-estimator:hover {background-color: #d4ebff;}#sk-container-id-3 div.sk-parallel-item::after {content: \"\";width: 100%;border-bottom: 1px solid gray;flex-grow: 1;}#sk-container-id-3 div.sk-label:hover label.sk-toggleable__label {background-color: #d4ebff;}#sk-container-id-3 div.sk-serial::before {content: \"\";position: absolute;border-left: 1px solid gray;box-sizing: border-box;top: 0;bottom: 0;left: 50%;z-index: 0;}#sk-container-id-3 div.sk-serial {display: flex;flex-direction: column;align-items: center;background-color: white;padding-right: 0.2em;padding-left: 0.2em;position: relative;}#sk-container-id-3 div.sk-item {position: relative;z-index: 1;}#sk-container-id-3 div.sk-parallel {display: flex;align-items: stretch;justify-content: center;background-color: white;position: relative;}#sk-container-id-3 div.sk-item::before, #sk-container-id-3 div.sk-parallel-item::before {content: \"\";position: absolute;border-left: 1px solid gray;box-sizing: border-box;top: 0;bottom: 0;left: 50%;z-index: -1;}#sk-container-id-3 div.sk-parallel-item {display: flex;flex-direction: column;z-index: 1;position: relative;background-color: white;}#sk-container-id-3 div.sk-parallel-item:first-child::after {align-self: flex-end;width: 50%;}#sk-container-id-3 div.sk-parallel-item:last-child::after {align-self: flex-start;width: 50%;}#sk-container-id-3 div.sk-parallel-item:only-child::after {width: 0;}#sk-container-id-3 div.sk-dashed-wrapped {border: 1px dashed gray;margin: 0 0.4em 0.5em 0.4em;box-sizing: border-box;padding-bottom: 0.4em;background-color: white;}#sk-container-id-3 div.sk-label label {font-family: monospace;font-weight: bold;display: inline-block;line-height: 1.2em;}#sk-container-id-3 div.sk-label-container {text-align: center;}#sk-container-id-3 div.sk-container {/* jupyter's `normalize.less` sets `[hidden] { display: none; }` but bootstrap.min.css set `[hidden] { display: none !important; }` so we also need the `!important` here to be able to override the default hidden behavior on the sphinx rendered scikit-learn.org. See: https://github.com/scikit-learn/scikit-learn/issues/21755 */display: inline-block !important;position: relative;}#sk-container-id-3 div.sk-text-repr-fallback {display: none;}</style><div id=\"sk-container-id-3\" class=\"sk-top-container\"><div class=\"sk-text-repr-fallback\"><pre>RandomForestClassifier(max_depth=20, min_samples_split=10, random_state=42)</pre><b>In a Jupyter environment, please rerun this cell to show the HTML representation or trust the notebook. <br />On GitHub, the HTML representation is unable to render, please try loading this page with nbviewer.org.</b></div><div class=\"sk-container\" hidden><div class=\"sk-item\"><div class=\"sk-estimator sk-toggleable\"><input class=\"sk-toggleable__control sk-hidden--visually\" id=\"sk-estimator-id-7\" type=\"checkbox\" checked><label for=\"sk-estimator-id-7\" class=\"sk-toggleable__label sk-toggleable__label-arrow\">RandomForestClassifier</label><div class=\"sk-toggleable__content\"><pre>RandomForestClassifier(max_depth=20, min_samples_split=10, random_state=42)</pre></div></div></div></div></div>"
      ],
      "text/plain": [
       "RandomForestClassifier(max_depth=20, min_samples_split=10, random_state=42)"
      ]
     },
     "execution_count": 45,
     "metadata": {},
     "output_type": "execute_result"
    }
   ],
   "source": [
    "# Training the models with training data\n",
    "rf_model.fit(X_train, y_train)"
   ]
  },
  {
   "cell_type": "code",
   "execution_count": 46,
   "id": "6e5e6d67-2535-4fbf-82f0-b30e7f4bd942",
   "metadata": {},
   "outputs": [
    {
     "data": {
      "text/html": [
       "<style>#sk-container-id-4 {color: black;background-color: white;}#sk-container-id-4 pre{padding: 0;}#sk-container-id-4 div.sk-toggleable {background-color: white;}#sk-container-id-4 label.sk-toggleable__label {cursor: pointer;display: block;width: 100%;margin-bottom: 0;padding: 0.3em;box-sizing: border-box;text-align: center;}#sk-container-id-4 label.sk-toggleable__label-arrow:before {content: \"▸\";float: left;margin-right: 0.25em;color: #696969;}#sk-container-id-4 label.sk-toggleable__label-arrow:hover:before {color: black;}#sk-container-id-4 div.sk-estimator:hover label.sk-toggleable__label-arrow:before {color: black;}#sk-container-id-4 div.sk-toggleable__content {max-height: 0;max-width: 0;overflow: hidden;text-align: left;background-color: #f0f8ff;}#sk-container-id-4 div.sk-toggleable__content pre {margin: 0.2em;color: black;border-radius: 0.25em;background-color: #f0f8ff;}#sk-container-id-4 input.sk-toggleable__control:checked~div.sk-toggleable__content {max-height: 200px;max-width: 100%;overflow: auto;}#sk-container-id-4 input.sk-toggleable__control:checked~label.sk-toggleable__label-arrow:before {content: \"▾\";}#sk-container-id-4 div.sk-estimator input.sk-toggleable__control:checked~label.sk-toggleable__label {background-color: #d4ebff;}#sk-container-id-4 div.sk-label input.sk-toggleable__control:checked~label.sk-toggleable__label {background-color: #d4ebff;}#sk-container-id-4 input.sk-hidden--visually {border: 0;clip: rect(1px 1px 1px 1px);clip: rect(1px, 1px, 1px, 1px);height: 1px;margin: -1px;overflow: hidden;padding: 0;position: absolute;width: 1px;}#sk-container-id-4 div.sk-estimator {font-family: monospace;background-color: #f0f8ff;border: 1px dotted black;border-radius: 0.25em;box-sizing: border-box;margin-bottom: 0.5em;}#sk-container-id-4 div.sk-estimator:hover {background-color: #d4ebff;}#sk-container-id-4 div.sk-parallel-item::after {content: \"\";width: 100%;border-bottom: 1px solid gray;flex-grow: 1;}#sk-container-id-4 div.sk-label:hover label.sk-toggleable__label {background-color: #d4ebff;}#sk-container-id-4 div.sk-serial::before {content: \"\";position: absolute;border-left: 1px solid gray;box-sizing: border-box;top: 0;bottom: 0;left: 50%;z-index: 0;}#sk-container-id-4 div.sk-serial {display: flex;flex-direction: column;align-items: center;background-color: white;padding-right: 0.2em;padding-left: 0.2em;position: relative;}#sk-container-id-4 div.sk-item {position: relative;z-index: 1;}#sk-container-id-4 div.sk-parallel {display: flex;align-items: stretch;justify-content: center;background-color: white;position: relative;}#sk-container-id-4 div.sk-item::before, #sk-container-id-4 div.sk-parallel-item::before {content: \"\";position: absolute;border-left: 1px solid gray;box-sizing: border-box;top: 0;bottom: 0;left: 50%;z-index: -1;}#sk-container-id-4 div.sk-parallel-item {display: flex;flex-direction: column;z-index: 1;position: relative;background-color: white;}#sk-container-id-4 div.sk-parallel-item:first-child::after {align-self: flex-end;width: 50%;}#sk-container-id-4 div.sk-parallel-item:last-child::after {align-self: flex-start;width: 50%;}#sk-container-id-4 div.sk-parallel-item:only-child::after {width: 0;}#sk-container-id-4 div.sk-dashed-wrapped {border: 1px dashed gray;margin: 0 0.4em 0.5em 0.4em;box-sizing: border-box;padding-bottom: 0.4em;background-color: white;}#sk-container-id-4 div.sk-label label {font-family: monospace;font-weight: bold;display: inline-block;line-height: 1.2em;}#sk-container-id-4 div.sk-label-container {text-align: center;}#sk-container-id-4 div.sk-container {/* jupyter's `normalize.less` sets `[hidden] { display: none; }` but bootstrap.min.css set `[hidden] { display: none !important; }` so we also need the `!important` here to be able to override the default hidden behavior on the sphinx rendered scikit-learn.org. See: https://github.com/scikit-learn/scikit-learn/issues/21755 */display: inline-block !important;position: relative;}#sk-container-id-4 div.sk-text-repr-fallback {display: none;}</style><div id=\"sk-container-id-4\" class=\"sk-top-container\"><div class=\"sk-text-repr-fallback\"><pre>LogisticRegression(max_iter=1000, random_state=42)</pre><b>In a Jupyter environment, please rerun this cell to show the HTML representation or trust the notebook. <br />On GitHub, the HTML representation is unable to render, please try loading this page with nbviewer.org.</b></div><div class=\"sk-container\" hidden><div class=\"sk-item\"><div class=\"sk-estimator sk-toggleable\"><input class=\"sk-toggleable__control sk-hidden--visually\" id=\"sk-estimator-id-8\" type=\"checkbox\" checked><label for=\"sk-estimator-id-8\" class=\"sk-toggleable__label sk-toggleable__label-arrow\">LogisticRegression</label><div class=\"sk-toggleable__content\"><pre>LogisticRegression(max_iter=1000, random_state=42)</pre></div></div></div></div></div>"
      ],
      "text/plain": [
       "LogisticRegression(max_iter=1000, random_state=42)"
      ]
     },
     "execution_count": 46,
     "metadata": {},
     "output_type": "execute_result"
    }
   ],
   "source": [
    "logistic_model.fit(X_train, y_train)"
   ]
  },
  {
   "cell_type": "code",
   "execution_count": 47,
   "id": "9c987c1d-9418-4482-9649-e2d2a97334d3",
   "metadata": {},
   "outputs": [
    {
     "data": {
      "text/html": [
       "<style>#sk-container-id-5 {color: black;background-color: white;}#sk-container-id-5 pre{padding: 0;}#sk-container-id-5 div.sk-toggleable {background-color: white;}#sk-container-id-5 label.sk-toggleable__label {cursor: pointer;display: block;width: 100%;margin-bottom: 0;padding: 0.3em;box-sizing: border-box;text-align: center;}#sk-container-id-5 label.sk-toggleable__label-arrow:before {content: \"▸\";float: left;margin-right: 0.25em;color: #696969;}#sk-container-id-5 label.sk-toggleable__label-arrow:hover:before {color: black;}#sk-container-id-5 div.sk-estimator:hover label.sk-toggleable__label-arrow:before {color: black;}#sk-container-id-5 div.sk-toggleable__content {max-height: 0;max-width: 0;overflow: hidden;text-align: left;background-color: #f0f8ff;}#sk-container-id-5 div.sk-toggleable__content pre {margin: 0.2em;color: black;border-radius: 0.25em;background-color: #f0f8ff;}#sk-container-id-5 input.sk-toggleable__control:checked~div.sk-toggleable__content {max-height: 200px;max-width: 100%;overflow: auto;}#sk-container-id-5 input.sk-toggleable__control:checked~label.sk-toggleable__label-arrow:before {content: \"▾\";}#sk-container-id-5 div.sk-estimator input.sk-toggleable__control:checked~label.sk-toggleable__label {background-color: #d4ebff;}#sk-container-id-5 div.sk-label input.sk-toggleable__control:checked~label.sk-toggleable__label {background-color: #d4ebff;}#sk-container-id-5 input.sk-hidden--visually {border: 0;clip: rect(1px 1px 1px 1px);clip: rect(1px, 1px, 1px, 1px);height: 1px;margin: -1px;overflow: hidden;padding: 0;position: absolute;width: 1px;}#sk-container-id-5 div.sk-estimator {font-family: monospace;background-color: #f0f8ff;border: 1px dotted black;border-radius: 0.25em;box-sizing: border-box;margin-bottom: 0.5em;}#sk-container-id-5 div.sk-estimator:hover {background-color: #d4ebff;}#sk-container-id-5 div.sk-parallel-item::after {content: \"\";width: 100%;border-bottom: 1px solid gray;flex-grow: 1;}#sk-container-id-5 div.sk-label:hover label.sk-toggleable__label {background-color: #d4ebff;}#sk-container-id-5 div.sk-serial::before {content: \"\";position: absolute;border-left: 1px solid gray;box-sizing: border-box;top: 0;bottom: 0;left: 50%;z-index: 0;}#sk-container-id-5 div.sk-serial {display: flex;flex-direction: column;align-items: center;background-color: white;padding-right: 0.2em;padding-left: 0.2em;position: relative;}#sk-container-id-5 div.sk-item {position: relative;z-index: 1;}#sk-container-id-5 div.sk-parallel {display: flex;align-items: stretch;justify-content: center;background-color: white;position: relative;}#sk-container-id-5 div.sk-item::before, #sk-container-id-5 div.sk-parallel-item::before {content: \"\";position: absolute;border-left: 1px solid gray;box-sizing: border-box;top: 0;bottom: 0;left: 50%;z-index: -1;}#sk-container-id-5 div.sk-parallel-item {display: flex;flex-direction: column;z-index: 1;position: relative;background-color: white;}#sk-container-id-5 div.sk-parallel-item:first-child::after {align-self: flex-end;width: 50%;}#sk-container-id-5 div.sk-parallel-item:last-child::after {align-self: flex-start;width: 50%;}#sk-container-id-5 div.sk-parallel-item:only-child::after {width: 0;}#sk-container-id-5 div.sk-dashed-wrapped {border: 1px dashed gray;margin: 0 0.4em 0.5em 0.4em;box-sizing: border-box;padding-bottom: 0.4em;background-color: white;}#sk-container-id-5 div.sk-label label {font-family: monospace;font-weight: bold;display: inline-block;line-height: 1.2em;}#sk-container-id-5 div.sk-label-container {text-align: center;}#sk-container-id-5 div.sk-container {/* jupyter's `normalize.less` sets `[hidden] { display: none; }` but bootstrap.min.css set `[hidden] { display: none !important; }` so we also need the `!important` here to be able to override the default hidden behavior on the sphinx rendered scikit-learn.org. See: https://github.com/scikit-learn/scikit-learn/issues/21755 */display: inline-block !important;position: relative;}#sk-container-id-5 div.sk-text-repr-fallback {display: none;}</style><div id=\"sk-container-id-5\" class=\"sk-top-container\"><div class=\"sk-text-repr-fallback\"><pre>GradientBoostingClassifier(n_estimators=200, random_state=42)</pre><b>In a Jupyter environment, please rerun this cell to show the HTML representation or trust the notebook. <br />On GitHub, the HTML representation is unable to render, please try loading this page with nbviewer.org.</b></div><div class=\"sk-container\" hidden><div class=\"sk-item\"><div class=\"sk-estimator sk-toggleable\"><input class=\"sk-toggleable__control sk-hidden--visually\" id=\"sk-estimator-id-9\" type=\"checkbox\" checked><label for=\"sk-estimator-id-9\" class=\"sk-toggleable__label sk-toggleable__label-arrow\">GradientBoostingClassifier</label><div class=\"sk-toggleable__content\"><pre>GradientBoostingClassifier(n_estimators=200, random_state=42)</pre></div></div></div></div></div>"
      ],
      "text/plain": [
       "GradientBoostingClassifier(n_estimators=200, random_state=42)"
      ]
     },
     "execution_count": 47,
     "metadata": {},
     "output_type": "execute_result"
    }
   ],
   "source": [
    "gradient_boosting_model.fit(X_train, y_train)"
   ]
  },
  {
   "cell_type": "code",
   "execution_count": 48,
   "id": "cee52046-4531-485e-98fd-b0f8aaeae3a9",
   "metadata": {},
   "outputs": [],
   "source": [
    "# We make predictions on the test set\n",
    "y_pred_rf = rf_model.predict(X_test)\n",
    "y_prob_rf = rf_model.predict_proba(X_test)[:, 1]  \n",
    "\n",
    "y_pred_logistic = logistic_model.predict(X_test)\n",
    "y_prob_logistic = logistic_model.predict_proba(X_test)[:, 1]  \n",
    "\n",
    "y_pred_gb = gradient_boosting_model.predict(X_test)\n",
    "y_prob_gb = gradient_boosting_model.predict_proba(X_test)[:, 1]  "
   ]
  },
  {
   "cell_type": "code",
   "execution_count": 49,
   "id": "db22cc8d-ce40-4718-9da6-a7ccfb87b65f",
   "metadata": {},
   "outputs": [],
   "source": [
    "# We calculate performance metrics\n",
    "metrics_rf = {\n",
    "    \"Accuracy\": accuracy_score(y_test, y_pred_rf),\n",
    "    \"Precision\": precision_score(y_test, y_pred_rf),\n",
    "    \"Recall\": recall_score(y_test, y_pred_rf),\n",
    "    \"F1 Score\": f1_score(y_test, y_pred_rf),\n",
    "    \"ROC-AUC\": roc_auc_score(y_test, y_prob_rf)\n",
    "}\n",
    "\n",
    "metrics_logistic = {\n",
    "    \"Accuracy\": accuracy_score(y_test, y_pred_logistic),\n",
    "    \"Precision\": precision_score(y_test, y_pred_logistic),\n",
    "    \"Recall\": recall_score(y_test, y_pred_logistic),\n",
    "    \"F1 Score\": f1_score(y_test, y_pred_logistic),\n",
    "    \"ROC-AUC\": roc_auc_score(y_test, y_prob_logistic)\n",
    "}\n",
    "\n",
    "metrics_gb = {\n",
    "    \"Accuracy\": accuracy_score(y_test, y_pred_gb),\n",
    "    \"Precision\": precision_score(y_test, y_pred_gb),\n",
    "    \"Recall\": recall_score(y_test, y_pred_gb),\n",
    "    \"F1 Score\": f1_score(y_test, y_pred_gb),\n",
    "    \"ROC-AUC\": roc_auc_score(y_test, y_prob_gb)\n",
    "}"
   ]
  },
  {
   "cell_type": "code",
   "execution_count": 50,
   "id": "3672edd7-0f65-44f4-b84a-0e2ebe4b2dcf",
   "metadata": {},
   "outputs": [
    {
     "data": {
      "text/html": [
       "<div>\n",
       "<style scoped>\n",
       "    .dataframe tbody tr th:only-of-type {\n",
       "        vertical-align: middle;\n",
       "    }\n",
       "\n",
       "    .dataframe tbody tr th {\n",
       "        vertical-align: top;\n",
       "    }\n",
       "\n",
       "    .dataframe thead th {\n",
       "        text-align: right;\n",
       "    }\n",
       "</style>\n",
       "<table border=\"1\" class=\"dataframe\">\n",
       "  <thead>\n",
       "    <tr style=\"text-align: right;\">\n",
       "      <th></th>\n",
       "      <th>Accuracy</th>\n",
       "      <th>Precision</th>\n",
       "      <th>Recall</th>\n",
       "      <th>F1 Score</th>\n",
       "      <th>ROC-AUC</th>\n",
       "    </tr>\n",
       "  </thead>\n",
       "  <tbody>\n",
       "    <tr>\n",
       "      <th>Logistic Regression</th>\n",
       "      <td>0.808397</td>\n",
       "      <td>0.555556</td>\n",
       "      <td>0.208333</td>\n",
       "      <td>0.303030</td>\n",
       "      <td>0.762621</td>\n",
       "    </tr>\n",
       "    <tr>\n",
       "      <th>Gradient Boosting</th>\n",
       "      <td>0.869044</td>\n",
       "      <td>0.760705</td>\n",
       "      <td>0.503333</td>\n",
       "      <td>0.605817</td>\n",
       "      <td>0.859373</td>\n",
       "    </tr>\n",
       "    <tr>\n",
       "      <th>Random Forest</th>\n",
       "      <td>0.867711</td>\n",
       "      <td>0.759591</td>\n",
       "      <td>0.495000</td>\n",
       "      <td>0.599395</td>\n",
       "      <td>0.852010</td>\n",
       "    </tr>\n",
       "  </tbody>\n",
       "</table>\n",
       "</div>"
      ],
      "text/plain": [
       "                     Accuracy  Precision    Recall  F1 Score   ROC-AUC\n",
       "Logistic Regression  0.808397   0.555556  0.208333  0.303030  0.762621\n",
       "Gradient Boosting    0.869044   0.760705  0.503333  0.605817  0.859373\n",
       "Random Forest        0.867711   0.759591  0.495000  0.599395  0.852010"
      ]
     },
     "execution_count": 50,
     "metadata": {},
     "output_type": "execute_result"
    }
   ],
   "source": [
    "# We display the results in a table form\n",
    "model_performance_df = pd.DataFrame([metrics_logistic, metrics_gb, metrics_rf], \n",
    "                                    index=[\"Logistic Regression\", \"Gradient Boosting\", \"Random Forest\"])\n",
    "\n",
    "model_performance_df"
   ]
  },
  {
   "cell_type": "markdown",
   "id": "5bad7ec4-338f-4b46-9e40-2d0a7cbc0408",
   "metadata": {},
   "source": [
    "Gradient Boosting gave the best results in Accuracy, Recall, F1 Score and ROC-AUC metrics.\r\n",
    "Random Forest gave very close results to Gradient Boosting and has the second best performance.\r\n",
    "Logistic Regression showed lower performance especially in terms of Recall and F1 Score, indicating that it has a lower fit as a simpler model.\r\n",
    "As a result, Gradient Boosting stands out as the best performing model, followed by Random Forest."
   ]
  },
  {
   "cell_type": "markdown",
   "id": "3ae3f851-c6aa-46aa-8464-034dc0142d02",
   "metadata": {},
   "source": [
    "## 5. Results Interpretation and Analysis"
   ]
  },
  {
   "cell_type": "markdown",
   "id": "9551175b-54f9-4ea2-8263-556c854bb06a",
   "metadata": {},
   "source": [
    "### Selection and Interpretation of the Best Model"
   ]
  },
  {
   "cell_type": "code",
   "execution_count": 51,
   "id": "334241d8-6b93-47b8-8cf3-f10cff0f4cf5",
   "metadata": {},
   "outputs": [],
   "source": [
    "# Gradient Boosting is selected as the best performing model\n",
    "# To better interpret this model, we analyze feature importance\n",
    "\n",
    "# Obtaining feature importances\n",
    "feature_importances = gradient_boosting_model.feature_importances_"
   ]
  },
  {
   "cell_type": "code",
   "execution_count": 52,
   "id": "eae6dfcb-f227-4c85-bbcd-c42d8ba7c39a",
   "metadata": {},
   "outputs": [],
   "source": [
    "# Convert feature names and their importance into a table\n",
    "feature_importance_df = pd.DataFrame({\n",
    "    \"Feature\": selected_features,\n",
    "    \"Importance\": feature_importances\n",
    "}).sort_values(by=\"Importance\", ascending=False)"
   ]
  },
  {
   "cell_type": "code",
   "execution_count": 53,
   "id": "cffd4a74-bdc3-4c82-9f71-17ad00e037fa",
   "metadata": {},
   "outputs": [
    {
     "data": {
      "text/html": [
       "<div>\n",
       "<style scoped>\n",
       "    .dataframe tbody tr th:only-of-type {\n",
       "        vertical-align: middle;\n",
       "    }\n",
       "\n",
       "    .dataframe tbody tr th {\n",
       "        vertical-align: top;\n",
       "    }\n",
       "\n",
       "    .dataframe thead th {\n",
       "        text-align: right;\n",
       "    }\n",
       "</style>\n",
       "<table border=\"1\" class=\"dataframe\">\n",
       "  <thead>\n",
       "    <tr style=\"text-align: right;\">\n",
       "      <th></th>\n",
       "      <th>Feature</th>\n",
       "      <th>Importance</th>\n",
       "    </tr>\n",
       "  </thead>\n",
       "  <tbody>\n",
       "    <tr>\n",
       "      <th>0</th>\n",
       "      <td>Age</td>\n",
       "      <td>0.361602</td>\n",
       "    </tr>\n",
       "    <tr>\n",
       "      <th>1</th>\n",
       "      <td>NumOfProducts</td>\n",
       "      <td>0.271705</td>\n",
       "    </tr>\n",
       "    <tr>\n",
       "      <th>2</th>\n",
       "      <td>IsActiveMember</td>\n",
       "      <td>0.105740</td>\n",
       "    </tr>\n",
       "    <tr>\n",
       "      <th>3</th>\n",
       "      <td>Balance</td>\n",
       "      <td>0.075760</td>\n",
       "    </tr>\n",
       "    <tr>\n",
       "      <th>4</th>\n",
       "      <td>Geography_Germany</td>\n",
       "      <td>0.055337</td>\n",
       "    </tr>\n",
       "    <tr>\n",
       "      <th>5</th>\n",
       "      <td>BalanceTenure</td>\n",
       "      <td>0.049170</td>\n",
       "    </tr>\n",
       "    <tr>\n",
       "      <th>6</th>\n",
       "      <td>CreditAge</td>\n",
       "      <td>0.034782</td>\n",
       "    </tr>\n",
       "    <tr>\n",
       "      <th>7</th>\n",
       "      <td>CreditScore</td>\n",
       "      <td>0.029762</td>\n",
       "    </tr>\n",
       "    <tr>\n",
       "      <th>8</th>\n",
       "      <td>Gender</td>\n",
       "      <td>0.013061</td>\n",
       "    </tr>\n",
       "    <tr>\n",
       "      <th>9</th>\n",
       "      <td>Geography_Spain</td>\n",
       "      <td>0.003081</td>\n",
       "    </tr>\n",
       "  </tbody>\n",
       "</table>\n",
       "</div>"
      ],
      "text/plain": [
       "             Feature  Importance\n",
       "0                Age    0.361602\n",
       "1      NumOfProducts    0.271705\n",
       "2     IsActiveMember    0.105740\n",
       "3            Balance    0.075760\n",
       "4  Geography_Germany    0.055337\n",
       "5      BalanceTenure    0.049170\n",
       "6          CreditAge    0.034782\n",
       "7        CreditScore    0.029762\n",
       "8             Gender    0.013061\n",
       "9    Geography_Spain    0.003081"
      ]
     },
     "execution_count": 53,
     "metadata": {},
     "output_type": "execute_result"
    }
   ],
   "source": [
    "feature_importance_df.reset_index(drop=True, inplace=True)\n",
    "\n",
    "feature_importance_df"
   ]
  },
  {
   "cell_type": "markdown",
   "id": "46465ed0-92fa-439e-9bac-e650675f57f9",
   "metadata": {},
   "source": [
    "Feature Importances: According to the Gradient Boosting model, the contribution levels of the features to the model are as follows:\r\n",
    "\r\n",
    "Age: The feature with the highest importance of 36.2%. Age is seen to have a major impact on customer churn.\r\n",
    "NumOfProducts: Second place with an importance rate of 27.2%. The number of products that customers own can be an important factor affecting customer loyalty.\r\n",
    "IsActiveMember: Third place with an importance rate of 10.6%. Whether the customer is an active member or not affects the probability of churn.\r\n",
    "Balance and Geography_Germany also have an importance of over 5% and contribute to customer churn.\r\n",
    "Less important features are listed as CreditAge, CreditScore, Gender, and Geography_Spain. These features contributed less to the model but supported the overall model performance."
   ]
  },
  {
   "cell_type": "code",
   "execution_count": 54,
   "id": "3ef93ef6-b572-43da-8dd9-47c9c51abe32",
   "metadata": {},
   "outputs": [],
   "source": [
    "# We do the same process in Random Forest model to analyze feature importance\n",
    "\n",
    "# Obtaining feature importance in Random Forest model\n",
    "feature_importances_rf = rf_model.feature_importances_"
   ]
  },
  {
   "cell_type": "code",
   "execution_count": 55,
   "id": "4787d9b2-5495-4422-a47f-e16ffed25848",
   "metadata": {},
   "outputs": [
    {
     "data": {
      "text/html": [
       "<div>\n",
       "<style scoped>\n",
       "    .dataframe tbody tr th:only-of-type {\n",
       "        vertical-align: middle;\n",
       "    }\n",
       "\n",
       "    .dataframe tbody tr th {\n",
       "        vertical-align: top;\n",
       "    }\n",
       "\n",
       "    .dataframe thead th {\n",
       "        text-align: right;\n",
       "    }\n",
       "</style>\n",
       "<table border=\"1\" class=\"dataframe\">\n",
       "  <thead>\n",
       "    <tr style=\"text-align: right;\">\n",
       "      <th></th>\n",
       "      <th>Feature</th>\n",
       "      <th>Importance</th>\n",
       "    </tr>\n",
       "  </thead>\n",
       "  <tbody>\n",
       "    <tr>\n",
       "      <th>0</th>\n",
       "      <td>Age</td>\n",
       "      <td>0.261518</td>\n",
       "    </tr>\n",
       "    <tr>\n",
       "      <th>1</th>\n",
       "      <td>NumOfProducts</td>\n",
       "      <td>0.168810</td>\n",
       "    </tr>\n",
       "    <tr>\n",
       "      <th>2</th>\n",
       "      <td>BalanceTenure</td>\n",
       "      <td>0.118295</td>\n",
       "    </tr>\n",
       "    <tr>\n",
       "      <th>3</th>\n",
       "      <td>Balance</td>\n",
       "      <td>0.115457</td>\n",
       "    </tr>\n",
       "    <tr>\n",
       "      <th>4</th>\n",
       "      <td>CreditAge</td>\n",
       "      <td>0.112340</td>\n",
       "    </tr>\n",
       "    <tr>\n",
       "      <th>5</th>\n",
       "      <td>CreditScore</td>\n",
       "      <td>0.108016</td>\n",
       "    </tr>\n",
       "    <tr>\n",
       "      <th>6</th>\n",
       "      <td>IsActiveMember</td>\n",
       "      <td>0.053311</td>\n",
       "    </tr>\n",
       "    <tr>\n",
       "      <th>7</th>\n",
       "      <td>Geography_Germany</td>\n",
       "      <td>0.034169</td>\n",
       "    </tr>\n",
       "    <tr>\n",
       "      <th>8</th>\n",
       "      <td>Gender</td>\n",
       "      <td>0.017763</td>\n",
       "    </tr>\n",
       "    <tr>\n",
       "      <th>9</th>\n",
       "      <td>Geography_Spain</td>\n",
       "      <td>0.010321</td>\n",
       "    </tr>\n",
       "  </tbody>\n",
       "</table>\n",
       "</div>"
      ],
      "text/plain": [
       "             Feature  Importance\n",
       "0                Age    0.261518\n",
       "1      NumOfProducts    0.168810\n",
       "2      BalanceTenure    0.118295\n",
       "3            Balance    0.115457\n",
       "4          CreditAge    0.112340\n",
       "5        CreditScore    0.108016\n",
       "6     IsActiveMember    0.053311\n",
       "7  Geography_Germany    0.034169\n",
       "8             Gender    0.017763\n",
       "9    Geography_Spain    0.010321"
      ]
     },
     "execution_count": 55,
     "metadata": {},
     "output_type": "execute_result"
    }
   ],
   "source": [
    "# Convert feature names and their importance into a table\n",
    "feature_importance_rf_df = pd.DataFrame({\n",
    "    \"Feature\": selected_features,\n",
    "    \"Importance\": feature_importances_rf\n",
    "}).sort_values(by=\"Importance\", ascending=False)\n",
    "\n",
    "feature_importance_rf_df.reset_index(drop=True, inplace=True)\n",
    "\n",
    "feature_importance_rf_df"
   ]
  },
  {
   "cell_type": "markdown",
   "id": "4efe608e-155d-4cc6-b011-3b0633aaea72",
   "metadata": {},
   "source": [
    "Random Forest Model Feature Importance:\r\n",
    "\r\n",
    "Age: It stands out as the most important feature with 26.2%.\r\n",
    "NumOfProducts: It ranks second with 16.9%.\r\n",
    "BalanceTenure and Balance: These features are important at 11% levels.\r\n",
    "CreditAge and CreditScore: These features also contribute at approximately 10% level.\r\n",
    "Features such as Age, NumOfProducts, BalanceTenure, Balance, CreditAge, and CreditScore make significant contributions in the Random Forest model."
   ]
  },
  {
   "cell_type": "code",
   "execution_count": 56,
   "id": "cd1e9979-9076-4965-a8f8-07b4ce0c355f",
   "metadata": {},
   "outputs": [],
   "source": [
    "# Examining feature importance for Logistic Regression\n",
    "# Importance can be assessed using coefficients of features in Logistic Regression\n",
    "# Therefore we use absolute values ​​because coefficients can be positive or negative\n",
    "\n",
    "logistic_coefficients = logistic_model.coef_[0]  \n",
    "feature_importance_logistic_df = pd.DataFrame({\n",
    "    \"Feature\": selected_features,\n",
    "    \"Importance\": abs(logistic_coefficients)  \n",
    "}).sort_values(by=\"Importance\", ascending=False)"
   ]
  },
  {
   "cell_type": "code",
   "execution_count": 57,
   "id": "4db83e02-9352-4ffa-8a46-6055119ce34b",
   "metadata": {},
   "outputs": [
    {
     "data": {
      "text/html": [
       "<div>\n",
       "<style scoped>\n",
       "    .dataframe tbody tr th:only-of-type {\n",
       "        vertical-align: middle;\n",
       "    }\n",
       "\n",
       "    .dataframe tbody tr th {\n",
       "        vertical-align: top;\n",
       "    }\n",
       "\n",
       "    .dataframe thead th {\n",
       "        text-align: right;\n",
       "    }\n",
       "</style>\n",
       "<table border=\"1\" class=\"dataframe\">\n",
       "  <thead>\n",
       "    <tr style=\"text-align: right;\">\n",
       "      <th></th>\n",
       "      <th>Feature</th>\n",
       "      <th>Importance</th>\n",
       "    </tr>\n",
       "  </thead>\n",
       "  <tbody>\n",
       "    <tr>\n",
       "      <th>0</th>\n",
       "      <td>IsActiveMember</td>\n",
       "      <td>1.029699</td>\n",
       "    </tr>\n",
       "    <tr>\n",
       "      <th>1</th>\n",
       "      <td>Geography_Germany</td>\n",
       "      <td>0.778756</td>\n",
       "    </tr>\n",
       "    <tr>\n",
       "      <th>2</th>\n",
       "      <td>Age</td>\n",
       "      <td>0.766089</td>\n",
       "    </tr>\n",
       "    <tr>\n",
       "      <th>3</th>\n",
       "      <td>Gender</td>\n",
       "      <td>0.546966</td>\n",
       "    </tr>\n",
       "    <tr>\n",
       "      <th>4</th>\n",
       "      <td>Balance</td>\n",
       "      <td>0.200604</td>\n",
       "    </tr>\n",
       "    <tr>\n",
       "      <th>5</th>\n",
       "      <td>NumOfProducts</td>\n",
       "      <td>0.110906</td>\n",
       "    </tr>\n",
       "    <tr>\n",
       "      <th>6</th>\n",
       "      <td>Geography_Spain</td>\n",
       "      <td>0.067782</td>\n",
       "    </tr>\n",
       "    <tr>\n",
       "      <th>7</th>\n",
       "      <td>CreditScore</td>\n",
       "      <td>0.054468</td>\n",
       "    </tr>\n",
       "    <tr>\n",
       "      <th>8</th>\n",
       "      <td>CreditAge</td>\n",
       "      <td>0.040059</td>\n",
       "    </tr>\n",
       "    <tr>\n",
       "      <th>9</th>\n",
       "      <td>BalanceTenure</td>\n",
       "      <td>0.017121</td>\n",
       "    </tr>\n",
       "  </tbody>\n",
       "</table>\n",
       "</div>"
      ],
      "text/plain": [
       "             Feature  Importance\n",
       "0     IsActiveMember    1.029699\n",
       "1  Geography_Germany    0.778756\n",
       "2                Age    0.766089\n",
       "3             Gender    0.546966\n",
       "4            Balance    0.200604\n",
       "5      NumOfProducts    0.110906\n",
       "6    Geography_Spain    0.067782\n",
       "7        CreditScore    0.054468\n",
       "8          CreditAge    0.040059\n",
       "9      BalanceTenure    0.017121"
      ]
     },
     "execution_count": 57,
     "metadata": {},
     "output_type": "execute_result"
    }
   ],
   "source": [
    "feature_importance_logistic_df.reset_index(drop=True, inplace=True)\n",
    "\n",
    "feature_importance_logistic_df"
   ]
  },
  {
   "cell_type": "markdown",
   "id": "f750e2e1-ba69-4195-9214-f2b35aaf9a0d",
   "metadata": {},
   "source": [
    "Logistic Regression Model Feature Importance:\r\n",
    "\r\n",
    "IsActiveMember: The feature with the highest coefficient and the most significant effect on the model.\r\n",
    "\r\n",
    "Geography_Germany and Age: These features also have significant coefficients.\r\n",
    "Gender and Balance: Features with lower importance but supporting model performance.\r\n",
    "\r\n",
    "While the IsActiveMember feature has the most significant effect in the Logistic Regression model, demographic features such as Geography_Germany and Age also make significant contributions."
   ]
  },
  {
   "cell_type": "markdown",
   "id": "a98ec671-c956-4ccd-bfa8-786cf970a185",
   "metadata": {},
   "source": [
    "Summary\r\n",
    "Age and IsActiveMember features are among the prominent factors in Gradient Boosting, Random Forest and Logistic Regression models. However, the order of importance of some features may vary depending on the structure of the model. These analyses help us understand the main factors affecting customer churn."
   ]
  },
  {
   "cell_type": "markdown",
   "id": "a59d3a75-3e97-4d80-a049-00c1d9bdc1be",
   "metadata": {},
   "source": [
    "Evaluation of Results from a Business Perspective\r\n",
    "The models we apply to predict customer churn can help us better understand customer behavior and identify risky customers in advance. Some important points that these analyses can contribute to the business world are summarized below:\r\n",
    "\r\n",
    "1. Strategies to Increase Customer Loyalty\r\n",
    "Determining Risky Customer Segments: Features such as age, customer product count (NumOfProducts), active membership status (IsActiveMember) and customer balance play an important role in customer churn. Models can identify customers with high churn risk based on these features. The business can prevent customers in this segment from leaving by offering special loyalty campaigns or personalized offers.\r\n",
    "Studies on Age and Product Diversification: Age has emerged as an important factor, especially in Gradient Boosting and Random Forest models. Offering more attractive products to young customers or special services to older customers can increase loyalty. Since product diversity also contributes to customer loyalty, new product options can be offered to meet the needs of customers.\r\n",
    "2. Marketing and Customer Experience Improvements\r\n",
    "Personalized Marketing: Since our models can identify risk groups based on customer profiles, marketing campaigns can be customized to these profiles. For example, if it is observed that German customers are at higher risk of churn, special offers and benefits can be offered for this segment.\r\n",
    "\r\n",
    "Improving Customer Experience: Given that the churn rate is higher for inactive customers, it is important to improve customer interaction channels. This can be done by providing better support to customers, establishing fast feedback mechanisms and continuously monitoring customer satisfaction.\r\n",
    "\r\n",
    "3. Workforce and Cost Management\r\n",
    "Effective Use of Resources: By focusing on customer segments with a high churn risk, marketing and customer service resources can be used more effectively. For example, loyalty campaigns can be made more efficient by focusing on high-risk customers.\r\n",
    "\r\n",
    "Cost Management: With the predictions provided by the models, the business can optimize costs to prevent customer churn. Loyalty programs and customer retention campaigns can be structured to target only high-risk customers, which allows for better cost management.\r\n",
    "4. Future Improvement Areas and Additional Analytics\r\n",
    "Model Improvement by Adding Additional Features: Data that can provide more insight into customer behavior, such as customer feedback or past purchase frequency, can further improve model performance.\r\n",
    "Time Series Analytics: Seeing how customer churn changes over time can help us understand whether there are more churns in certain periods. Based on this information, seasonal campaigns or strategies to increase customer loyalty in certain periods can be developed.\r\n",
    "Developing Models for Different Segments: Separate models can be developed for countries or age groups to make more specific and accurate predictions. For example, a separate model can be created for German customers.\r\n",
    "Integration with Customer Lifetime Value (CLV) Analytics: Customer churn prevention strategies can be optimized by also considering the potential lifetime value of the customer. This can lead to investing more in high-CLV customers and implementing less costly strategies for low-CLV customers.\r\n",
    "\r\n",
    "With these assessments, the business can strengthen customer loyalty, minimize churn risk, and make marketing strategies more efficient. These predictions provided by the models will be of great benefit in planning customer-focused strategies."
   ]
  },
  {
   "cell_type": "code",
   "execution_count": null,
   "id": "80220ce2-22c5-475e-8480-a3fb138f9a3d",
   "metadata": {},
   "outputs": [],
   "source": []
  }
 ],
 "metadata": {
  "kernelspec": {
   "display_name": "Python 3 (ipykernel)",
   "language": "python",
   "name": "python3"
  },
  "language_info": {
   "codemirror_mode": {
    "name": "ipython",
    "version": 3
   },
   "file_extension": ".py",
   "mimetype": "text/x-python",
   "name": "python",
   "nbconvert_exporter": "python",
   "pygments_lexer": "ipython3",
   "version": "3.11.7"
  }
 },
 "nbformat": 4,
 "nbformat_minor": 5
}
